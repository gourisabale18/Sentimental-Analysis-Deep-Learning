{
  "cells": [
    {
      "cell_type": "markdown",
      "metadata": {
        "id": "wOIi7NyqJqbl"
      },
      "source": [
        "# Sentimental Analysis using Recurrent Neural Networks "
      ]
    },
    {
      "cell_type": "markdown",
      "source": [
        "#**Main Objective**\n",
        "\n",
        "Through this project we are performing sentimental analysis of comments using sample datasets of RateMyProfessors website. Our primary goal is to predict the quality and difficulty scores for professor's teaching based on the comments provided by students."
      ],
      "metadata": {
        "id": "KH6FjxI-NBwC"
      }
    },
    {
      "cell_type": "markdown",
      "source": [
        "#**Tasks we performed:**\n",
        "\n",
        "1. Data Collection\n",
        "2. Data Preprocessing\n",
        "3. Word Emebeddings using glove and word2vec\n",
        "4. Split the datasets into training and testing sets\n",
        "5. Train the main model\n",
        "6. Analyse the results by comparing the models and select the best model for prediction\n",
        "\n",
        "\n",
        "\n",
        "\n",
        "\n"
      ],
      "metadata": {
        "id": "b1dbkDfgOFOj"
      }
    },
    {
      "cell_type": "markdown",
      "source": [
        "# **Task 1 : Data Collection**"
      ],
      "metadata": {
        "id": "qa7uQoo5P3i8"
      }
    },
    {
      "cell_type": "markdown",
      "source": [
        "\n",
        "1) Mount new drive into google colab and add datasets into new drive\n"
      ],
      "metadata": {
        "id": "j3moZ4HYLPpt"
      }
    },
    {
      "cell_type": "code",
      "execution_count": null,
      "metadata": {
        "id": "mZxJboy_KiYB",
        "colab": {
          "base_uri": "https://localhost:8080/"
        },
        "outputId": "0aa3102e-caa3-479f-b32f-dadd1b4010f9"
      },
      "outputs": [
        {
          "output_type": "stream",
          "name": "stdout",
          "text": [
            "Drive already mounted at /content/drive; to attempt to forcibly remount, call drive.mount(\"/content/drive\", force_remount=True).\n"
          ]
        }
      ],
      "source": [
        "from google.colab import drive\n",
        "drive.mount('/content/drive')"
      ]
    },
    {
      "cell_type": "markdown",
      "metadata": {
        "id": "JTUFC8cIKz-m"
      },
      "source": [
        "2) Read data from CSV File RateMyProfessor_Sample data.csv and store it into Panda Dataframe"
      ]
    },
    {
      "cell_type": "code",
      "execution_count": null,
      "metadata": {
        "id": "wipuFfMmKyMe"
      },
      "outputs": [],
      "source": [
        "csvFile = '/content/drive/MyDrive/RateMyProfessor_Sample data.csv'\n",
        "import pandas as pd"
      ]
    },
    {
      "cell_type": "markdown",
      "metadata": {
        "id": "zA7ybMnjLPC7"
      },
      "source": [
        "3) Read columns for quality ,difficulty and comments and store it into Panda dataframe"
      ]
    },
    {
      "cell_type": "code",
      "execution_count": null,
      "metadata": {
        "id": "PF2xCtPtLacD"
      },
      "outputs": [],
      "source": [
        "\n",
        "df1 = pd.read_csv(csvFile, usecols=['comments','student_star', 'student_difficult'])"
      ]
    },
    {
      "cell_type": "markdown",
      "source": [
        "4) Print first 5 rows of dataframe\n"
      ],
      "metadata": {
        "id": "CnbnnnugHxmN"
      }
    },
    {
      "cell_type": "code",
      "execution_count": null,
      "metadata": {
        "id": "W3J_C2hfrOle",
        "colab": {
          "base_uri": "https://localhost:8080/",
          "height": 206
        },
        "outputId": "6847c270-96e8-4b83-f3b3-868cb426927d"
      },
      "outputs": [
        {
          "output_type": "execute_result",
          "data": {
            "text/plain": [
              "   student_star  student_difficult  \\\n",
              "0           5.0                3.0   \n",
              "1           5.0                2.0   \n",
              "2           4.0                3.0   \n",
              "3           5.0                3.0   \n",
              "4           5.0                1.0   \n",
              "\n",
              "                                            comments  \n",
              "0  This class is hard, but its a two-in-one gen-e...  \n",
              "1  Definitely going to choose Prof. Looney\\'s cla...  \n",
              "2  I overall enjoyed this class because the assig...  \n",
              "3  Yes, it\\'s possible to get an A but you\\'ll de...  \n",
              "4  Professor Looney has great knowledge in Astron...  "
            ],
            "text/html": [
              "\n",
              "  <div id=\"df-899ce455-d59a-42a5-ac4f-d8d243a81255\">\n",
              "    <div class=\"colab-df-container\">\n",
              "      <div>\n",
              "<style scoped>\n",
              "    .dataframe tbody tr th:only-of-type {\n",
              "        vertical-align: middle;\n",
              "    }\n",
              "\n",
              "    .dataframe tbody tr th {\n",
              "        vertical-align: top;\n",
              "    }\n",
              "\n",
              "    .dataframe thead th {\n",
              "        text-align: right;\n",
              "    }\n",
              "</style>\n",
              "<table border=\"1\" class=\"dataframe\">\n",
              "  <thead>\n",
              "    <tr style=\"text-align: right;\">\n",
              "      <th></th>\n",
              "      <th>student_star</th>\n",
              "      <th>student_difficult</th>\n",
              "      <th>comments</th>\n",
              "    </tr>\n",
              "  </thead>\n",
              "  <tbody>\n",
              "    <tr>\n",
              "      <th>0</th>\n",
              "      <td>5.0</td>\n",
              "      <td>3.0</td>\n",
              "      <td>This class is hard, but its a two-in-one gen-e...</td>\n",
              "    </tr>\n",
              "    <tr>\n",
              "      <th>1</th>\n",
              "      <td>5.0</td>\n",
              "      <td>2.0</td>\n",
              "      <td>Definitely going to choose Prof. Looney\\'s cla...</td>\n",
              "    </tr>\n",
              "    <tr>\n",
              "      <th>2</th>\n",
              "      <td>4.0</td>\n",
              "      <td>3.0</td>\n",
              "      <td>I overall enjoyed this class because the assig...</td>\n",
              "    </tr>\n",
              "    <tr>\n",
              "      <th>3</th>\n",
              "      <td>5.0</td>\n",
              "      <td>3.0</td>\n",
              "      <td>Yes, it\\'s possible to get an A but you\\'ll de...</td>\n",
              "    </tr>\n",
              "    <tr>\n",
              "      <th>4</th>\n",
              "      <td>5.0</td>\n",
              "      <td>1.0</td>\n",
              "      <td>Professor Looney has great knowledge in Astron...</td>\n",
              "    </tr>\n",
              "  </tbody>\n",
              "</table>\n",
              "</div>\n",
              "      <button class=\"colab-df-convert\" onclick=\"convertToInteractive('df-899ce455-d59a-42a5-ac4f-d8d243a81255')\"\n",
              "              title=\"Convert this dataframe to an interactive table.\"\n",
              "              style=\"display:none;\">\n",
              "        \n",
              "  <svg xmlns=\"http://www.w3.org/2000/svg\" height=\"24px\"viewBox=\"0 0 24 24\"\n",
              "       width=\"24px\">\n",
              "    <path d=\"M0 0h24v24H0V0z\" fill=\"none\"/>\n",
              "    <path d=\"M18.56 5.44l.94 2.06.94-2.06 2.06-.94-2.06-.94-.94-2.06-.94 2.06-2.06.94zm-11 1L8.5 8.5l.94-2.06 2.06-.94-2.06-.94L8.5 2.5l-.94 2.06-2.06.94zm10 10l.94 2.06.94-2.06 2.06-.94-2.06-.94-.94-2.06-.94 2.06-2.06.94z\"/><path d=\"M17.41 7.96l-1.37-1.37c-.4-.4-.92-.59-1.43-.59-.52 0-1.04.2-1.43.59L10.3 9.45l-7.72 7.72c-.78.78-.78 2.05 0 2.83L4 21.41c.39.39.9.59 1.41.59.51 0 1.02-.2 1.41-.59l7.78-7.78 2.81-2.81c.8-.78.8-2.07 0-2.86zM5.41 20L4 18.59l7.72-7.72 1.47 1.35L5.41 20z\"/>\n",
              "  </svg>\n",
              "      </button>\n",
              "      \n",
              "  <style>\n",
              "    .colab-df-container {\n",
              "      display:flex;\n",
              "      flex-wrap:wrap;\n",
              "      gap: 12px;\n",
              "    }\n",
              "\n",
              "    .colab-df-convert {\n",
              "      background-color: #E8F0FE;\n",
              "      border: none;\n",
              "      border-radius: 50%;\n",
              "      cursor: pointer;\n",
              "      display: none;\n",
              "      fill: #1967D2;\n",
              "      height: 32px;\n",
              "      padding: 0 0 0 0;\n",
              "      width: 32px;\n",
              "    }\n",
              "\n",
              "    .colab-df-convert:hover {\n",
              "      background-color: #E2EBFA;\n",
              "      box-shadow: 0px 1px 2px rgba(60, 64, 67, 0.3), 0px 1px 3px 1px rgba(60, 64, 67, 0.15);\n",
              "      fill: #174EA6;\n",
              "    }\n",
              "\n",
              "    [theme=dark] .colab-df-convert {\n",
              "      background-color: #3B4455;\n",
              "      fill: #D2E3FC;\n",
              "    }\n",
              "\n",
              "    [theme=dark] .colab-df-convert:hover {\n",
              "      background-color: #434B5C;\n",
              "      box-shadow: 0px 1px 3px 1px rgba(0, 0, 0, 0.15);\n",
              "      filter: drop-shadow(0px 1px 2px rgba(0, 0, 0, 0.3));\n",
              "      fill: #FFFFFF;\n",
              "    }\n",
              "  </style>\n",
              "\n",
              "      <script>\n",
              "        const buttonEl =\n",
              "          document.querySelector('#df-899ce455-d59a-42a5-ac4f-d8d243a81255 button.colab-df-convert');\n",
              "        buttonEl.style.display =\n",
              "          google.colab.kernel.accessAllowed ? 'block' : 'none';\n",
              "\n",
              "        async function convertToInteractive(key) {\n",
              "          const element = document.querySelector('#df-899ce455-d59a-42a5-ac4f-d8d243a81255');\n",
              "          const dataTable =\n",
              "            await google.colab.kernel.invokeFunction('convertToInteractive',\n",
              "                                                     [key], {});\n",
              "          if (!dataTable) return;\n",
              "\n",
              "          const docLinkHtml = 'Like what you see? Visit the ' +\n",
              "            '<a target=\"_blank\" href=https://colab.research.google.com/notebooks/data_table.ipynb>data table notebook</a>'\n",
              "            + ' to learn more about interactive tables.';\n",
              "          element.innerHTML = '';\n",
              "          dataTable['output_type'] = 'display_data';\n",
              "          await google.colab.output.renderOutput(dataTable, element);\n",
              "          const docLink = document.createElement('div');\n",
              "          docLink.innerHTML = docLinkHtml;\n",
              "          element.appendChild(docLink);\n",
              "        }\n",
              "      </script>\n",
              "    </div>\n",
              "  </div>\n",
              "  "
            ]
          },
          "metadata": {},
          "execution_count": 283
        }
      ],
      "source": [
        "df1.head()"
      ]
    },
    {
      "cell_type": "markdown",
      "metadata": {
        "id": "App4GkSLJvpQ"
      },
      "source": [
        "5) Rename Columns of dataframe to maintain consistency"
      ]
    },
    {
      "cell_type": "code",
      "execution_count": null,
      "metadata": {
        "id": "zNnKpV2DJzfo"
      },
      "outputs": [],
      "source": [
        "df1 = df1.rename(columns={'comments': 'comments', 'student_star': 'quality', 'student_difficult': 'difficulty'})"
      ]
    },
    {
      "cell_type": "markdown",
      "source": [
        "6) Verify column change and data"
      ],
      "metadata": {
        "id": "41BIfxliRjgk"
      }
    },
    {
      "cell_type": "code",
      "execution_count": null,
      "metadata": {
        "id": "ff8p8HmFucwO",
        "colab": {
          "base_uri": "https://localhost:8080/",
          "height": 206
        },
        "outputId": "63793dc9-29ff-4c48-ac99-dbac7c422481"
      },
      "outputs": [
        {
          "output_type": "execute_result",
          "data": {
            "text/plain": [
              "   quality  difficulty                                           comments\n",
              "0      5.0         3.0  This class is hard, but its a two-in-one gen-e...\n",
              "1      5.0         2.0  Definitely going to choose Prof. Looney\\'s cla...\n",
              "2      4.0         3.0  I overall enjoyed this class because the assig...\n",
              "3      5.0         3.0  Yes, it\\'s possible to get an A but you\\'ll de...\n",
              "4      5.0         1.0  Professor Looney has great knowledge in Astron..."
            ],
            "text/html": [
              "\n",
              "  <div id=\"df-f7b76e0a-9dc5-43e5-97be-3daee4ac6ff7\">\n",
              "    <div class=\"colab-df-container\">\n",
              "      <div>\n",
              "<style scoped>\n",
              "    .dataframe tbody tr th:only-of-type {\n",
              "        vertical-align: middle;\n",
              "    }\n",
              "\n",
              "    .dataframe tbody tr th {\n",
              "        vertical-align: top;\n",
              "    }\n",
              "\n",
              "    .dataframe thead th {\n",
              "        text-align: right;\n",
              "    }\n",
              "</style>\n",
              "<table border=\"1\" class=\"dataframe\">\n",
              "  <thead>\n",
              "    <tr style=\"text-align: right;\">\n",
              "      <th></th>\n",
              "      <th>quality</th>\n",
              "      <th>difficulty</th>\n",
              "      <th>comments</th>\n",
              "    </tr>\n",
              "  </thead>\n",
              "  <tbody>\n",
              "    <tr>\n",
              "      <th>0</th>\n",
              "      <td>5.0</td>\n",
              "      <td>3.0</td>\n",
              "      <td>This class is hard, but its a two-in-one gen-e...</td>\n",
              "    </tr>\n",
              "    <tr>\n",
              "      <th>1</th>\n",
              "      <td>5.0</td>\n",
              "      <td>2.0</td>\n",
              "      <td>Definitely going to choose Prof. Looney\\'s cla...</td>\n",
              "    </tr>\n",
              "    <tr>\n",
              "      <th>2</th>\n",
              "      <td>4.0</td>\n",
              "      <td>3.0</td>\n",
              "      <td>I overall enjoyed this class because the assig...</td>\n",
              "    </tr>\n",
              "    <tr>\n",
              "      <th>3</th>\n",
              "      <td>5.0</td>\n",
              "      <td>3.0</td>\n",
              "      <td>Yes, it\\'s possible to get an A but you\\'ll de...</td>\n",
              "    </tr>\n",
              "    <tr>\n",
              "      <th>4</th>\n",
              "      <td>5.0</td>\n",
              "      <td>1.0</td>\n",
              "      <td>Professor Looney has great knowledge in Astron...</td>\n",
              "    </tr>\n",
              "  </tbody>\n",
              "</table>\n",
              "</div>\n",
              "      <button class=\"colab-df-convert\" onclick=\"convertToInteractive('df-f7b76e0a-9dc5-43e5-97be-3daee4ac6ff7')\"\n",
              "              title=\"Convert this dataframe to an interactive table.\"\n",
              "              style=\"display:none;\">\n",
              "        \n",
              "  <svg xmlns=\"http://www.w3.org/2000/svg\" height=\"24px\"viewBox=\"0 0 24 24\"\n",
              "       width=\"24px\">\n",
              "    <path d=\"M0 0h24v24H0V0z\" fill=\"none\"/>\n",
              "    <path d=\"M18.56 5.44l.94 2.06.94-2.06 2.06-.94-2.06-.94-.94-2.06-.94 2.06-2.06.94zm-11 1L8.5 8.5l.94-2.06 2.06-.94-2.06-.94L8.5 2.5l-.94 2.06-2.06.94zm10 10l.94 2.06.94-2.06 2.06-.94-2.06-.94-.94-2.06-.94 2.06-2.06.94z\"/><path d=\"M17.41 7.96l-1.37-1.37c-.4-.4-.92-.59-1.43-.59-.52 0-1.04.2-1.43.59L10.3 9.45l-7.72 7.72c-.78.78-.78 2.05 0 2.83L4 21.41c.39.39.9.59 1.41.59.51 0 1.02-.2 1.41-.59l7.78-7.78 2.81-2.81c.8-.78.8-2.07 0-2.86zM5.41 20L4 18.59l7.72-7.72 1.47 1.35L5.41 20z\"/>\n",
              "  </svg>\n",
              "      </button>\n",
              "      \n",
              "  <style>\n",
              "    .colab-df-container {\n",
              "      display:flex;\n",
              "      flex-wrap:wrap;\n",
              "      gap: 12px;\n",
              "    }\n",
              "\n",
              "    .colab-df-convert {\n",
              "      background-color: #E8F0FE;\n",
              "      border: none;\n",
              "      border-radius: 50%;\n",
              "      cursor: pointer;\n",
              "      display: none;\n",
              "      fill: #1967D2;\n",
              "      height: 32px;\n",
              "      padding: 0 0 0 0;\n",
              "      width: 32px;\n",
              "    }\n",
              "\n",
              "    .colab-df-convert:hover {\n",
              "      background-color: #E2EBFA;\n",
              "      box-shadow: 0px 1px 2px rgba(60, 64, 67, 0.3), 0px 1px 3px 1px rgba(60, 64, 67, 0.15);\n",
              "      fill: #174EA6;\n",
              "    }\n",
              "\n",
              "    [theme=dark] .colab-df-convert {\n",
              "      background-color: #3B4455;\n",
              "      fill: #D2E3FC;\n",
              "    }\n",
              "\n",
              "    [theme=dark] .colab-df-convert:hover {\n",
              "      background-color: #434B5C;\n",
              "      box-shadow: 0px 1px 3px 1px rgba(0, 0, 0, 0.15);\n",
              "      filter: drop-shadow(0px 1px 2px rgba(0, 0, 0, 0.3));\n",
              "      fill: #FFFFFF;\n",
              "    }\n",
              "  </style>\n",
              "\n",
              "      <script>\n",
              "        const buttonEl =\n",
              "          document.querySelector('#df-f7b76e0a-9dc5-43e5-97be-3daee4ac6ff7 button.colab-df-convert');\n",
              "        buttonEl.style.display =\n",
              "          google.colab.kernel.accessAllowed ? 'block' : 'none';\n",
              "\n",
              "        async function convertToInteractive(key) {\n",
              "          const element = document.querySelector('#df-f7b76e0a-9dc5-43e5-97be-3daee4ac6ff7');\n",
              "          const dataTable =\n",
              "            await google.colab.kernel.invokeFunction('convertToInteractive',\n",
              "                                                     [key], {});\n",
              "          if (!dataTable) return;\n",
              "\n",
              "          const docLinkHtml = 'Like what you see? Visit the ' +\n",
              "            '<a target=\"_blank\" href=https://colab.research.google.com/notebooks/data_table.ipynb>data table notebook</a>'\n",
              "            + ' to learn more about interactive tables.';\n",
              "          element.innerHTML = '';\n",
              "          dataTable['output_type'] = 'display_data';\n",
              "          await google.colab.output.renderOutput(dataTable, element);\n",
              "          const docLink = document.createElement('div');\n",
              "          docLink.innerHTML = docLinkHtml;\n",
              "          element.appendChild(docLink);\n",
              "        }\n",
              "      </script>\n",
              "    </div>\n",
              "  </div>\n",
              "  "
            ]
          },
          "metadata": {},
          "execution_count": 285
        }
      ],
      "source": [
        "\n",
        "df1.head()"
      ]
    },
    {
      "cell_type": "markdown",
      "source": [
        "7) Fetch the count of missing values"
      ],
      "metadata": {
        "id": "L0wPSKQUIQ16"
      }
    },
    {
      "cell_type": "code",
      "source": [],
      "metadata": {
        "id": "4dVK1taor7AI"
      },
      "execution_count": null,
      "outputs": []
    },
    {
      "cell_type": "code",
      "execution_count": null,
      "metadata": {
        "id": "jzrSb50GrPAq",
        "colab": {
          "base_uri": "https://localhost:8080/"
        },
        "outputId": "81f3702c-40d0-4a33-aa5f-cd515b88885f"
      },
      "outputs": [
        {
          "output_type": "execute_result",
          "data": {
            "text/plain": [
              "quality       5\n",
              "difficulty    5\n",
              "comments      7\n",
              "dtype: int64"
            ]
          },
          "metadata": {},
          "execution_count": 286
        }
      ],
      "source": [
        "df1.isnull().sum()"
      ]
    },
    {
      "cell_type": "markdown",
      "metadata": {
        "id": "CCWBdWOzOhOo"
      },
      "source": [
        "8) Use glom library for data transformation "
      ]
    },
    {
      "cell_type": "code",
      "execution_count": null,
      "metadata": {
        "id": "xMQ0HYhFOgS1",
        "colab": {
          "base_uri": "https://localhost:8080/"
        },
        "outputId": "d4c5f1b1-f85a-4284-f9bd-c798662cc2f2"
      },
      "outputs": [
        {
          "output_type": "stream",
          "name": "stdout",
          "text": [
            "Looking in indexes: https://pypi.org/simple, https://us-python.pkg.dev/colab-wheels/public/simple/\n",
            "Requirement already satisfied: glom in /usr/local/lib/python3.10/dist-packages (23.3.0)\n",
            "Requirement already satisfied: boltons>=19.3.0 in /usr/local/lib/python3.10/dist-packages (from glom) (23.0.0)\n",
            "Requirement already satisfied: face==20.1.1 in /usr/local/lib/python3.10/dist-packages (from glom) (20.1.1)\n",
            "Requirement already satisfied: attrs in /usr/local/lib/python3.10/dist-packages (from glom) (23.1.0)\n"
          ]
        }
      ],
      "source": [
        "!pip install glom\n",
        "from glom import glom"
      ]
    },
    {
      "cell_type": "markdown",
      "metadata": {
        "id": "Tofd_VnFOtdc"
      },
      "source": [
        "9) Read json file all_reviews.json and store it in panda dataframe \n",
        "This will be our second dataset"
      ]
    },
    {
      "cell_type": "code",
      "execution_count": null,
      "metadata": {
        "id": "Mru8CiA5O9tj"
      },
      "outputs": [],
      "source": [
        "\n",
        "jsonFile = '/content/drive/MyDrive/all_reviews.json'\n",
        "df2 = pd.read_json(jsonFile)\n"
      ]
    },
    {
      "cell_type": "code",
      "execution_count": null,
      "metadata": {
        "id": "b3ThBv7TrmBn"
      },
      "outputs": [],
      "source": [
        "df2 = pd.DataFrame({\n",
        "    'comments': df2[0].apply(lambda row: glom(row, 'Comment')), \n",
        "    'quality': df2[0].apply(lambda row: glom(row, 'Quality')), \n",
        "    'difficulty': df2[0].apply(lambda row: glom(row, 'Difficulty'))})\n"
      ]
    },
    {
      "cell_type": "markdown",
      "source": [
        "10) Display contents of second dataset"
      ],
      "metadata": {
        "id": "RPeSgLjhSVe8"
      }
    },
    {
      "cell_type": "code",
      "source": [
        "df2.head()"
      ],
      "metadata": {
        "id": "NXEYxHEOSSFO",
        "colab": {
          "base_uri": "https://localhost:8080/",
          "height": 206
        },
        "outputId": "c7f10514-2c6f-42de-c14d-c2dbd560f733"
      },
      "execution_count": null,
      "outputs": [
        {
          "output_type": "execute_result",
          "data": {
            "text/plain": [
              "                                            comments quality difficulty\n",
              "0  Professor Nichols is super nice and very whole...     5.0        2.0\n",
              "1  Prof Humes is really knowledgeable, but her le...     4.0        4.0\n",
              "2  If you fall behind it's almost impossible to c...     3.0        4.0\n",
              "3  Prof. Meyer is intensely brilliant and provoke...     4.5        4.0\n",
              "4  Would not recommend taking him for fhs or even...     1.0        4.0"
            ],
            "text/html": [
              "\n",
              "  <div id=\"df-3029d843-0c13-4a90-bc5f-1c7ffd8f5f04\">\n",
              "    <div class=\"colab-df-container\">\n",
              "      <div>\n",
              "<style scoped>\n",
              "    .dataframe tbody tr th:only-of-type {\n",
              "        vertical-align: middle;\n",
              "    }\n",
              "\n",
              "    .dataframe tbody tr th {\n",
              "        vertical-align: top;\n",
              "    }\n",
              "\n",
              "    .dataframe thead th {\n",
              "        text-align: right;\n",
              "    }\n",
              "</style>\n",
              "<table border=\"1\" class=\"dataframe\">\n",
              "  <thead>\n",
              "    <tr style=\"text-align: right;\">\n",
              "      <th></th>\n",
              "      <th>comments</th>\n",
              "      <th>quality</th>\n",
              "      <th>difficulty</th>\n",
              "    </tr>\n",
              "  </thead>\n",
              "  <tbody>\n",
              "    <tr>\n",
              "      <th>0</th>\n",
              "      <td>Professor Nichols is super nice and very whole...</td>\n",
              "      <td>5.0</td>\n",
              "      <td>2.0</td>\n",
              "    </tr>\n",
              "    <tr>\n",
              "      <th>1</th>\n",
              "      <td>Prof Humes is really knowledgeable, but her le...</td>\n",
              "      <td>4.0</td>\n",
              "      <td>4.0</td>\n",
              "    </tr>\n",
              "    <tr>\n",
              "      <th>2</th>\n",
              "      <td>If you fall behind it's almost impossible to c...</td>\n",
              "      <td>3.0</td>\n",
              "      <td>4.0</td>\n",
              "    </tr>\n",
              "    <tr>\n",
              "      <th>3</th>\n",
              "      <td>Prof. Meyer is intensely brilliant and provoke...</td>\n",
              "      <td>4.5</td>\n",
              "      <td>4.0</td>\n",
              "    </tr>\n",
              "    <tr>\n",
              "      <th>4</th>\n",
              "      <td>Would not recommend taking him for fhs or even...</td>\n",
              "      <td>1.0</td>\n",
              "      <td>4.0</td>\n",
              "    </tr>\n",
              "  </tbody>\n",
              "</table>\n",
              "</div>\n",
              "      <button class=\"colab-df-convert\" onclick=\"convertToInteractive('df-3029d843-0c13-4a90-bc5f-1c7ffd8f5f04')\"\n",
              "              title=\"Convert this dataframe to an interactive table.\"\n",
              "              style=\"display:none;\">\n",
              "        \n",
              "  <svg xmlns=\"http://www.w3.org/2000/svg\" height=\"24px\"viewBox=\"0 0 24 24\"\n",
              "       width=\"24px\">\n",
              "    <path d=\"M0 0h24v24H0V0z\" fill=\"none\"/>\n",
              "    <path d=\"M18.56 5.44l.94 2.06.94-2.06 2.06-.94-2.06-.94-.94-2.06-.94 2.06-2.06.94zm-11 1L8.5 8.5l.94-2.06 2.06-.94-2.06-.94L8.5 2.5l-.94 2.06-2.06.94zm10 10l.94 2.06.94-2.06 2.06-.94-2.06-.94-.94-2.06-.94 2.06-2.06.94z\"/><path d=\"M17.41 7.96l-1.37-1.37c-.4-.4-.92-.59-1.43-.59-.52 0-1.04.2-1.43.59L10.3 9.45l-7.72 7.72c-.78.78-.78 2.05 0 2.83L4 21.41c.39.39.9.59 1.41.59.51 0 1.02-.2 1.41-.59l7.78-7.78 2.81-2.81c.8-.78.8-2.07 0-2.86zM5.41 20L4 18.59l7.72-7.72 1.47 1.35L5.41 20z\"/>\n",
              "  </svg>\n",
              "      </button>\n",
              "      \n",
              "  <style>\n",
              "    .colab-df-container {\n",
              "      display:flex;\n",
              "      flex-wrap:wrap;\n",
              "      gap: 12px;\n",
              "    }\n",
              "\n",
              "    .colab-df-convert {\n",
              "      background-color: #E8F0FE;\n",
              "      border: none;\n",
              "      border-radius: 50%;\n",
              "      cursor: pointer;\n",
              "      display: none;\n",
              "      fill: #1967D2;\n",
              "      height: 32px;\n",
              "      padding: 0 0 0 0;\n",
              "      width: 32px;\n",
              "    }\n",
              "\n",
              "    .colab-df-convert:hover {\n",
              "      background-color: #E2EBFA;\n",
              "      box-shadow: 0px 1px 2px rgba(60, 64, 67, 0.3), 0px 1px 3px 1px rgba(60, 64, 67, 0.15);\n",
              "      fill: #174EA6;\n",
              "    }\n",
              "\n",
              "    [theme=dark] .colab-df-convert {\n",
              "      background-color: #3B4455;\n",
              "      fill: #D2E3FC;\n",
              "    }\n",
              "\n",
              "    [theme=dark] .colab-df-convert:hover {\n",
              "      background-color: #434B5C;\n",
              "      box-shadow: 0px 1px 3px 1px rgba(0, 0, 0, 0.15);\n",
              "      filter: drop-shadow(0px 1px 2px rgba(0, 0, 0, 0.3));\n",
              "      fill: #FFFFFF;\n",
              "    }\n",
              "  </style>\n",
              "\n",
              "      <script>\n",
              "        const buttonEl =\n",
              "          document.querySelector('#df-3029d843-0c13-4a90-bc5f-1c7ffd8f5f04 button.colab-df-convert');\n",
              "        buttonEl.style.display =\n",
              "          google.colab.kernel.accessAllowed ? 'block' : 'none';\n",
              "\n",
              "        async function convertToInteractive(key) {\n",
              "          const element = document.querySelector('#df-3029d843-0c13-4a90-bc5f-1c7ffd8f5f04');\n",
              "          const dataTable =\n",
              "            await google.colab.kernel.invokeFunction('convertToInteractive',\n",
              "                                                     [key], {});\n",
              "          if (!dataTable) return;\n",
              "\n",
              "          const docLinkHtml = 'Like what you see? Visit the ' +\n",
              "            '<a target=\"_blank\" href=https://colab.research.google.com/notebooks/data_table.ipynb>data table notebook</a>'\n",
              "            + ' to learn more about interactive tables.';\n",
              "          element.innerHTML = '';\n",
              "          dataTable['output_type'] = 'display_data';\n",
              "          await google.colab.output.renderOutput(dataTable, element);\n",
              "          const docLink = document.createElement('div');\n",
              "          docLink.innerHTML = docLinkHtml;\n",
              "          element.appendChild(docLink);\n",
              "        }\n",
              "      </script>\n",
              "    </div>\n",
              "  </div>\n",
              "  "
            ]
          },
          "metadata": {},
          "execution_count": 290
        }
      ]
    },
    {
      "cell_type": "code",
      "source": [
        "df2.info()"
      ],
      "metadata": {
        "id": "D7X_Xu6qMN-T",
        "outputId": "73479c31-0ca7-43c3-c282-e99601a29b18",
        "colab": {
          "base_uri": "https://localhost:8080/"
        }
      },
      "execution_count": null,
      "outputs": [
        {
          "output_type": "stream",
          "name": "stdout",
          "text": [
            "<class 'pandas.core.frame.DataFrame'>\n",
            "RangeIndex: 288 entries, 0 to 287\n",
            "Data columns (total 3 columns):\n",
            " #   Column      Non-Null Count  Dtype \n",
            "---  ------      --------------  ----- \n",
            " 0   comments    288 non-null    object\n",
            " 1   quality     288 non-null    object\n",
            " 2   difficulty  288 non-null    object\n",
            "dtypes: object(3)\n",
            "memory usage: 6.9+ KB\n"
          ]
        }
      ]
    },
    {
      "cell_type": "code",
      "source": [
        "df2['quality'] = df2['quality'].astype('float32')\n",
        "df2['difficulty'] = df2['difficulty'].astype('float32')"
      ],
      "metadata": {
        "id": "MQLJQhZqM_Zu"
      },
      "execution_count": null,
      "outputs": []
    },
    {
      "cell_type": "markdown",
      "source": [
        "11) Check for null values in dataframe "
      ],
      "metadata": {
        "id": "Url28nwGSfKB"
      }
    },
    {
      "cell_type": "code",
      "execution_count": null,
      "metadata": {
        "id": "p01QnoGSPYIv",
        "colab": {
          "base_uri": "https://localhost:8080/"
        },
        "outputId": "3803a9de-d2fc-447a-f22c-6d2d2f6b64e1"
      },
      "outputs": [
        {
          "output_type": "execute_result",
          "data": {
            "text/plain": [
              "comments      0\n",
              "quality       0\n",
              "difficulty    0\n",
              "dtype: int64"
            ]
          },
          "metadata": {},
          "execution_count": 293
        }
      ],
      "source": [
        "df2.isnull().sum()"
      ]
    },
    {
      "cell_type": "markdown",
      "metadata": {
        "id": "93eqXDCjK3Po"
      },
      "source": [
        "12) Create a dataframe using web scrapping"
      ]
    },
    {
      "cell_type": "code",
      "execution_count": null,
      "metadata": {
        "id": "P3jEDvC2K2bl",
        "colab": {
          "base_uri": "https://localhost:8080/"
        },
        "outputId": "7d163778-7bc6-4bfd-cfbf-a0efe65b17bb"
      },
      "outputs": [
        {
          "output_type": "stream",
          "name": "stdout",
          "text": [
            "Looking in indexes: https://pypi.org/simple, https://us-python.pkg.dev/colab-wheels/public/simple/\n",
            "Requirement already satisfied: RateMyProfessorAPI in /usr/local/lib/python3.10/dist-packages (1.3.4)\n",
            "Requirement already satisfied: lxml in /usr/local/lib/python3.10/dist-packages (from RateMyProfessorAPI) (4.9.2)\n",
            "Requirement already satisfied: requests in /usr/local/lib/python3.10/dist-packages (from RateMyProfessorAPI) (2.27.1)\n",
            "Requirement already satisfied: beautifulsoup4 in /usr/local/lib/python3.10/dist-packages (from RateMyProfessorAPI) (4.11.2)\n",
            "Requirement already satisfied: soupsieve>1.2 in /usr/local/lib/python3.10/dist-packages (from beautifulsoup4->RateMyProfessorAPI) (2.4.1)\n",
            "Requirement already satisfied: charset-normalizer~=2.0.0 in /usr/local/lib/python3.10/dist-packages (from requests->RateMyProfessorAPI) (2.0.12)\n",
            "Requirement already satisfied: certifi>=2017.4.17 in /usr/local/lib/python3.10/dist-packages (from requests->RateMyProfessorAPI) (2022.12.7)\n",
            "Requirement already satisfied: idna<4,>=2.5 in /usr/local/lib/python3.10/dist-packages (from requests->RateMyProfessorAPI) (3.4)\n",
            "Requirement already satisfied: urllib3<1.27,>=1.21.1 in /usr/local/lib/python3.10/dist-packages (from requests->RateMyProfessorAPI) (1.26.15)\n"
          ]
        }
      ],
      "source": [
        "!pip install RateMyProfessorAPI "
      ]
    },
    {
      "cell_type": "code",
      "execution_count": null,
      "metadata": {
        "id": "Nk1c0K8kK9KW"
      },
      "outputs": [],
      "source": [
        "import ratemyprofessor\n",
        "professor = ratemyprofessor.get_professor_by_school_and_name(ratemyprofessor.get_school_by_name('California State University-Fullerton'),'Kenytt Avery')"
      ]
    },
    {
      "cell_type": "markdown",
      "source": [
        "13)Display the contents of this dataset"
      ],
      "metadata": {
        "id": "IAYa_o2bSrGV"
      }
    },
    {
      "cell_type": "code",
      "execution_count": null,
      "metadata": {
        "id": "xUyw9fYkKxVM",
        "colab": {
          "base_uri": "https://localhost:8080/"
        },
        "outputId": "7d68179e-4862-4ecd-a2ea-f1fee3b0ba2a"
      },
      "outputs": [
        {
          "output_type": "stream",
          "name": "stdout",
          "text": [
            "Professor name =  Kenytt Avery\n",
            "Professor Ratings = 3.6\n",
            "Professor Difficulty= 4\n"
          ]
        }
      ],
      "source": [
        "print(\"Professor name = \",professor.name)\n",
        "print(\"Professor Ratings =\", professor.rating)\n",
        "print(\"Professor Difficulty=\", professor.difficulty)"
      ]
    },
    {
      "cell_type": "code",
      "execution_count": null,
      "metadata": {
        "id": "y8-g2GpuLFz8",
        "colab": {
          "base_uri": "https://localhost:8080/"
        },
        "outputId": "631a8150-ff0e-43d8-ea0a-2765c882d37d"
      },
      "outputs": [
        {
          "output_type": "stream",
          "name": "stdout",
          "text": [
            "First 5 comments\n",
            "[\"He teaches NOTHING during lecture, no code, no helpful lecture. Not Grading for the whole semester and he'll grade it after final project. Member of project are random. Project 1 is at almost first half semester, and Project 2,3,4 are on the last month of semester WHYY. Please AVOID at all COST and don't believe in positive review.\", \"One of the best professors at csuf for cs department in my opinion. Just make sure to keep up with the learning material and don't miss any assignments because they build on top of each other concept wise. \", 'He does not grade until the end of the semester, until then you have no idea what your grade will be. Only group projects built around one big project, final group was randomized for no reason. He doesnt teach ANY code during lecture, only office hours (essential for projects). Lectures are useless, better off learning from youtube. AVOID PLEASE.\\n', \"Very knowledgeable about the topic he teaches, however the lectures are relatively dry. There are two weeks left till the semester ends and he still hasn't graded a single thing like what the other reviews said. All group projects are randomized, you get new members for every project, so good luck if you get someone who doesn't contribute anything.\", \"He doesn't grade anything all semester, so you have no idea if you're even doing projects correctly. He says the class is designed for beginners, but the very first project is literally back-end game development that just feels overwhelming when learning about APIs. Semester long projects with group member rotation, useless lectures.\"]\n",
            "First 5 ratings\n",
            "[1, 5, 1, 2, 2]\n",
            "First 5 difficulty\n",
            "[5, 4, 5, 4, 5]\n"
          ]
        }
      ],
      "source": [
        "comments = []\n",
        "quality = []\n",
        "difficulty = []\n",
        "for rating in professor.get_ratings():\n",
        "  comments.append(rating.comment)\n",
        "  quality.append(rating.rating)\n",
        "  difficulty.append(rating.difficulty)\n",
        "print(\"First 5 comments\")\n",
        "print(comments[:5])\n",
        "print(\"First 5 ratings\")\n",
        "print(quality[:5])\n",
        "print(\"First 5 difficulty\")\n",
        "print(difficulty[:5])"
      ]
    },
    {
      "cell_type": "code",
      "execution_count": null,
      "metadata": {
        "id": "p6fadg5LLI9n",
        "colab": {
          "base_uri": "https://localhost:8080/",
          "height": 206
        },
        "outputId": "f042506a-2279-45f2-aa4b-da73905a05b5"
      },
      "outputs": [
        {
          "output_type": "execute_result",
          "data": {
            "text/plain": [
              "                                            comments  quality  difficulty\n",
              "0  He teaches NOTHING during lecture, no code, no...        1           5\n",
              "1  One of the best professors at csuf for cs depa...        5           4\n",
              "2  He does not grade until the end of the semeste...        1           5\n",
              "3  Very knowledgeable about the topic he teaches,...        2           4\n",
              "4  He doesn't grade anything all semester, so you...        2           5"
            ],
            "text/html": [
              "\n",
              "  <div id=\"df-e1cd370d-ca52-466c-805c-a8819898e9ff\">\n",
              "    <div class=\"colab-df-container\">\n",
              "      <div>\n",
              "<style scoped>\n",
              "    .dataframe tbody tr th:only-of-type {\n",
              "        vertical-align: middle;\n",
              "    }\n",
              "\n",
              "    .dataframe tbody tr th {\n",
              "        vertical-align: top;\n",
              "    }\n",
              "\n",
              "    .dataframe thead th {\n",
              "        text-align: right;\n",
              "    }\n",
              "</style>\n",
              "<table border=\"1\" class=\"dataframe\">\n",
              "  <thead>\n",
              "    <tr style=\"text-align: right;\">\n",
              "      <th></th>\n",
              "      <th>comments</th>\n",
              "      <th>quality</th>\n",
              "      <th>difficulty</th>\n",
              "    </tr>\n",
              "  </thead>\n",
              "  <tbody>\n",
              "    <tr>\n",
              "      <th>0</th>\n",
              "      <td>He teaches NOTHING during lecture, no code, no...</td>\n",
              "      <td>1</td>\n",
              "      <td>5</td>\n",
              "    </tr>\n",
              "    <tr>\n",
              "      <th>1</th>\n",
              "      <td>One of the best professors at csuf for cs depa...</td>\n",
              "      <td>5</td>\n",
              "      <td>4</td>\n",
              "    </tr>\n",
              "    <tr>\n",
              "      <th>2</th>\n",
              "      <td>He does not grade until the end of the semeste...</td>\n",
              "      <td>1</td>\n",
              "      <td>5</td>\n",
              "    </tr>\n",
              "    <tr>\n",
              "      <th>3</th>\n",
              "      <td>Very knowledgeable about the topic he teaches,...</td>\n",
              "      <td>2</td>\n",
              "      <td>4</td>\n",
              "    </tr>\n",
              "    <tr>\n",
              "      <th>4</th>\n",
              "      <td>He doesn't grade anything all semester, so you...</td>\n",
              "      <td>2</td>\n",
              "      <td>5</td>\n",
              "    </tr>\n",
              "  </tbody>\n",
              "</table>\n",
              "</div>\n",
              "      <button class=\"colab-df-convert\" onclick=\"convertToInteractive('df-e1cd370d-ca52-466c-805c-a8819898e9ff')\"\n",
              "              title=\"Convert this dataframe to an interactive table.\"\n",
              "              style=\"display:none;\">\n",
              "        \n",
              "  <svg xmlns=\"http://www.w3.org/2000/svg\" height=\"24px\"viewBox=\"0 0 24 24\"\n",
              "       width=\"24px\">\n",
              "    <path d=\"M0 0h24v24H0V0z\" fill=\"none\"/>\n",
              "    <path d=\"M18.56 5.44l.94 2.06.94-2.06 2.06-.94-2.06-.94-.94-2.06-.94 2.06-2.06.94zm-11 1L8.5 8.5l.94-2.06 2.06-.94-2.06-.94L8.5 2.5l-.94 2.06-2.06.94zm10 10l.94 2.06.94-2.06 2.06-.94-2.06-.94-.94-2.06-.94 2.06-2.06.94z\"/><path d=\"M17.41 7.96l-1.37-1.37c-.4-.4-.92-.59-1.43-.59-.52 0-1.04.2-1.43.59L10.3 9.45l-7.72 7.72c-.78.78-.78 2.05 0 2.83L4 21.41c.39.39.9.59 1.41.59.51 0 1.02-.2 1.41-.59l7.78-7.78 2.81-2.81c.8-.78.8-2.07 0-2.86zM5.41 20L4 18.59l7.72-7.72 1.47 1.35L5.41 20z\"/>\n",
              "  </svg>\n",
              "      </button>\n",
              "      \n",
              "  <style>\n",
              "    .colab-df-container {\n",
              "      display:flex;\n",
              "      flex-wrap:wrap;\n",
              "      gap: 12px;\n",
              "    }\n",
              "\n",
              "    .colab-df-convert {\n",
              "      background-color: #E8F0FE;\n",
              "      border: none;\n",
              "      border-radius: 50%;\n",
              "      cursor: pointer;\n",
              "      display: none;\n",
              "      fill: #1967D2;\n",
              "      height: 32px;\n",
              "      padding: 0 0 0 0;\n",
              "      width: 32px;\n",
              "    }\n",
              "\n",
              "    .colab-df-convert:hover {\n",
              "      background-color: #E2EBFA;\n",
              "      box-shadow: 0px 1px 2px rgba(60, 64, 67, 0.3), 0px 1px 3px 1px rgba(60, 64, 67, 0.15);\n",
              "      fill: #174EA6;\n",
              "    }\n",
              "\n",
              "    [theme=dark] .colab-df-convert {\n",
              "      background-color: #3B4455;\n",
              "      fill: #D2E3FC;\n",
              "    }\n",
              "\n",
              "    [theme=dark] .colab-df-convert:hover {\n",
              "      background-color: #434B5C;\n",
              "      box-shadow: 0px 1px 3px 1px rgba(0, 0, 0, 0.15);\n",
              "      filter: drop-shadow(0px 1px 2px rgba(0, 0, 0, 0.3));\n",
              "      fill: #FFFFFF;\n",
              "    }\n",
              "  </style>\n",
              "\n",
              "      <script>\n",
              "        const buttonEl =\n",
              "          document.querySelector('#df-e1cd370d-ca52-466c-805c-a8819898e9ff button.colab-df-convert');\n",
              "        buttonEl.style.display =\n",
              "          google.colab.kernel.accessAllowed ? 'block' : 'none';\n",
              "\n",
              "        async function convertToInteractive(key) {\n",
              "          const element = document.querySelector('#df-e1cd370d-ca52-466c-805c-a8819898e9ff');\n",
              "          const dataTable =\n",
              "            await google.colab.kernel.invokeFunction('convertToInteractive',\n",
              "                                                     [key], {});\n",
              "          if (!dataTable) return;\n",
              "\n",
              "          const docLinkHtml = 'Like what you see? Visit the ' +\n",
              "            '<a target=\"_blank\" href=https://colab.research.google.com/notebooks/data_table.ipynb>data table notebook</a>'\n",
              "            + ' to learn more about interactive tables.';\n",
              "          element.innerHTML = '';\n",
              "          dataTable['output_type'] = 'display_data';\n",
              "          await google.colab.output.renderOutput(dataTable, element);\n",
              "          const docLink = document.createElement('div');\n",
              "          docLink.innerHTML = docLinkHtml;\n",
              "          element.appendChild(docLink);\n",
              "        }\n",
              "      </script>\n",
              "    </div>\n",
              "  </div>\n",
              "  "
            ]
          },
          "metadata": {},
          "execution_count": 298
        }
      ],
      "source": [
        "dataframe = {'comments':comments,'quality':quality,'difficulty':difficulty}\n",
        "df3 = pd.DataFrame(dataframe)\n",
        "df3.head()"
      ]
    },
    {
      "cell_type": "markdown",
      "source": [
        "14) Change the data type of quality and difficulty attributes to float32 "
      ],
      "metadata": {
        "id": "-uVE0c45S6bD"
      }
    },
    {
      "cell_type": "code",
      "execution_count": null,
      "metadata": {
        "id": "VMH_jFso-l1I"
      },
      "outputs": [],
      "source": [
        "df3['quality'] = df3['quality'].astype('float32')\n",
        "df3['difficulty'] = df3['difficulty'].astype('float32')"
      ]
    },
    {
      "cell_type": "code",
      "execution_count": null,
      "metadata": {
        "id": "Teh8t163-30-",
        "colab": {
          "base_uri": "https://localhost:8080/"
        },
        "outputId": "0d77c425-0edc-425f-cfea-8265629460cb"
      },
      "outputs": [
        {
          "output_type": "stream",
          "name": "stdout",
          "text": [
            "<class 'pandas.core.frame.DataFrame'>\n",
            "RangeIndex: 50 entries, 0 to 49\n",
            "Data columns (total 3 columns):\n",
            " #   Column      Non-Null Count  Dtype  \n",
            "---  ------      --------------  -----  \n",
            " 0   comments    50 non-null     object \n",
            " 1   quality     50 non-null     float32\n",
            " 2   difficulty  50 non-null     float32\n",
            "dtypes: float32(2), object(1)\n",
            "memory usage: 928.0+ bytes\n"
          ]
        }
      ],
      "source": [
        "df3.info()"
      ]
    },
    {
      "cell_type": "markdown",
      "source": [
        "15) Combine all 3 panda dataframes to create one single dataframe"
      ],
      "metadata": {
        "id": "6bhJ6ekaTJSn"
      }
    },
    {
      "cell_type": "code",
      "execution_count": null,
      "metadata": {
        "id": "1niIzxxNF33-",
        "colab": {
          "base_uri": "https://localhost:8080/",
          "height": 298
        },
        "outputId": "b4978928-6044-4627-fdbc-035c985c38f0"
      },
      "outputs": [
        {
          "output_type": "stream",
          "name": "stderr",
          "text": [
            "<ipython-input-301-e542b627fe56>:1: FutureWarning: The frame.append method is deprecated and will be removed from pandas in a future version. Use pandas.concat instead.\n",
            "  df = df1.append(df2)\n",
            "<ipython-input-301-e542b627fe56>:2: FutureWarning: The frame.append method is deprecated and will be removed from pandas in a future version. Use pandas.concat instead.\n",
            "  df = df.append(df3)\n"
          ]
        },
        {
          "output_type": "execute_result",
          "data": {
            "text/plain": [
              "   quality  difficulty                                           comments\n",
              "0      5.0         3.0  This class is hard, but its a two-in-one gen-e...\n",
              "1      5.0         2.0  Definitely going to choose Prof. Looney\\'s cla...\n",
              "2      4.0         3.0  I overall enjoyed this class because the assig...\n",
              "3      5.0         3.0  Yes, it\\'s possible to get an A but you\\'ll de...\n",
              "4      5.0         1.0  Professor Looney has great knowledge in Astron..."
            ],
            "text/html": [
              "\n",
              "  <div id=\"df-41c3e931-6a66-49fb-813c-dd515c2d4842\">\n",
              "    <div class=\"colab-df-container\">\n",
              "      <div>\n",
              "<style scoped>\n",
              "    .dataframe tbody tr th:only-of-type {\n",
              "        vertical-align: middle;\n",
              "    }\n",
              "\n",
              "    .dataframe tbody tr th {\n",
              "        vertical-align: top;\n",
              "    }\n",
              "\n",
              "    .dataframe thead th {\n",
              "        text-align: right;\n",
              "    }\n",
              "</style>\n",
              "<table border=\"1\" class=\"dataframe\">\n",
              "  <thead>\n",
              "    <tr style=\"text-align: right;\">\n",
              "      <th></th>\n",
              "      <th>quality</th>\n",
              "      <th>difficulty</th>\n",
              "      <th>comments</th>\n",
              "    </tr>\n",
              "  </thead>\n",
              "  <tbody>\n",
              "    <tr>\n",
              "      <th>0</th>\n",
              "      <td>5.0</td>\n",
              "      <td>3.0</td>\n",
              "      <td>This class is hard, but its a two-in-one gen-e...</td>\n",
              "    </tr>\n",
              "    <tr>\n",
              "      <th>1</th>\n",
              "      <td>5.0</td>\n",
              "      <td>2.0</td>\n",
              "      <td>Definitely going to choose Prof. Looney\\'s cla...</td>\n",
              "    </tr>\n",
              "    <tr>\n",
              "      <th>2</th>\n",
              "      <td>4.0</td>\n",
              "      <td>3.0</td>\n",
              "      <td>I overall enjoyed this class because the assig...</td>\n",
              "    </tr>\n",
              "    <tr>\n",
              "      <th>3</th>\n",
              "      <td>5.0</td>\n",
              "      <td>3.0</td>\n",
              "      <td>Yes, it\\'s possible to get an A but you\\'ll de...</td>\n",
              "    </tr>\n",
              "    <tr>\n",
              "      <th>4</th>\n",
              "      <td>5.0</td>\n",
              "      <td>1.0</td>\n",
              "      <td>Professor Looney has great knowledge in Astron...</td>\n",
              "    </tr>\n",
              "  </tbody>\n",
              "</table>\n",
              "</div>\n",
              "      <button class=\"colab-df-convert\" onclick=\"convertToInteractive('df-41c3e931-6a66-49fb-813c-dd515c2d4842')\"\n",
              "              title=\"Convert this dataframe to an interactive table.\"\n",
              "              style=\"display:none;\">\n",
              "        \n",
              "  <svg xmlns=\"http://www.w3.org/2000/svg\" height=\"24px\"viewBox=\"0 0 24 24\"\n",
              "       width=\"24px\">\n",
              "    <path d=\"M0 0h24v24H0V0z\" fill=\"none\"/>\n",
              "    <path d=\"M18.56 5.44l.94 2.06.94-2.06 2.06-.94-2.06-.94-.94-2.06-.94 2.06-2.06.94zm-11 1L8.5 8.5l.94-2.06 2.06-.94-2.06-.94L8.5 2.5l-.94 2.06-2.06.94zm10 10l.94 2.06.94-2.06 2.06-.94-2.06-.94-.94-2.06-.94 2.06-2.06.94z\"/><path d=\"M17.41 7.96l-1.37-1.37c-.4-.4-.92-.59-1.43-.59-.52 0-1.04.2-1.43.59L10.3 9.45l-7.72 7.72c-.78.78-.78 2.05 0 2.83L4 21.41c.39.39.9.59 1.41.59.51 0 1.02-.2 1.41-.59l7.78-7.78 2.81-2.81c.8-.78.8-2.07 0-2.86zM5.41 20L4 18.59l7.72-7.72 1.47 1.35L5.41 20z\"/>\n",
              "  </svg>\n",
              "      </button>\n",
              "      \n",
              "  <style>\n",
              "    .colab-df-container {\n",
              "      display:flex;\n",
              "      flex-wrap:wrap;\n",
              "      gap: 12px;\n",
              "    }\n",
              "\n",
              "    .colab-df-convert {\n",
              "      background-color: #E8F0FE;\n",
              "      border: none;\n",
              "      border-radius: 50%;\n",
              "      cursor: pointer;\n",
              "      display: none;\n",
              "      fill: #1967D2;\n",
              "      height: 32px;\n",
              "      padding: 0 0 0 0;\n",
              "      width: 32px;\n",
              "    }\n",
              "\n",
              "    .colab-df-convert:hover {\n",
              "      background-color: #E2EBFA;\n",
              "      box-shadow: 0px 1px 2px rgba(60, 64, 67, 0.3), 0px 1px 3px 1px rgba(60, 64, 67, 0.15);\n",
              "      fill: #174EA6;\n",
              "    }\n",
              "\n",
              "    [theme=dark] .colab-df-convert {\n",
              "      background-color: #3B4455;\n",
              "      fill: #D2E3FC;\n",
              "    }\n",
              "\n",
              "    [theme=dark] .colab-df-convert:hover {\n",
              "      background-color: #434B5C;\n",
              "      box-shadow: 0px 1px 3px 1px rgba(0, 0, 0, 0.15);\n",
              "      filter: drop-shadow(0px 1px 2px rgba(0, 0, 0, 0.3));\n",
              "      fill: #FFFFFF;\n",
              "    }\n",
              "  </style>\n",
              "\n",
              "      <script>\n",
              "        const buttonEl =\n",
              "          document.querySelector('#df-41c3e931-6a66-49fb-813c-dd515c2d4842 button.colab-df-convert');\n",
              "        buttonEl.style.display =\n",
              "          google.colab.kernel.accessAllowed ? 'block' : 'none';\n",
              "\n",
              "        async function convertToInteractive(key) {\n",
              "          const element = document.querySelector('#df-41c3e931-6a66-49fb-813c-dd515c2d4842');\n",
              "          const dataTable =\n",
              "            await google.colab.kernel.invokeFunction('convertToInteractive',\n",
              "                                                     [key], {});\n",
              "          if (!dataTable) return;\n",
              "\n",
              "          const docLinkHtml = 'Like what you see? Visit the ' +\n",
              "            '<a target=\"_blank\" href=https://colab.research.google.com/notebooks/data_table.ipynb>data table notebook</a>'\n",
              "            + ' to learn more about interactive tables.';\n",
              "          element.innerHTML = '';\n",
              "          dataTable['output_type'] = 'display_data';\n",
              "          await google.colab.output.renderOutput(dataTable, element);\n",
              "          const docLink = document.createElement('div');\n",
              "          docLink.innerHTML = docLinkHtml;\n",
              "          element.appendChild(docLink);\n",
              "        }\n",
              "      </script>\n",
              "    </div>\n",
              "  </div>\n",
              "  "
            ]
          },
          "metadata": {},
          "execution_count": 301
        }
      ],
      "source": [
        "df = df1.append(df2)\n",
        "df = df.append(df3)\n",
        "df.head()"
      ]
    },
    {
      "cell_type": "markdown",
      "source": [
        "16) Verify total no of rows in a dataframe"
      ],
      "metadata": {
        "id": "yjkIRnCjTXq-"
      }
    },
    {
      "cell_type": "code",
      "execution_count": null,
      "metadata": {
        "id": "TwPqUnlIF-xC",
        "colab": {
          "base_uri": "https://localhost:8080/"
        },
        "outputId": "e8fbf06a-830f-44a3-801e-0a941d35c9b0"
      },
      "outputs": [
        {
          "output_type": "execute_result",
          "data": {
            "text/plain": [
              "(20338, 3)"
            ]
          },
          "metadata": {},
          "execution_count": 302
        }
      ],
      "source": [
        "df.shape"
      ]
    },
    {
      "cell_type": "markdown",
      "source": [
        "17) Check for null values and drop them if exist"
      ],
      "metadata": {
        "id": "O54zLODNTi-Y"
      }
    },
    {
      "cell_type": "code",
      "execution_count": null,
      "metadata": {
        "id": "4kInSqREGAR_",
        "colab": {
          "base_uri": "https://localhost:8080/"
        },
        "outputId": "21e977a7-941a-4316-e872-a92810d0967b"
      },
      "outputs": [
        {
          "output_type": "execute_result",
          "data": {
            "text/plain": [
              "quality       5\n",
              "difficulty    5\n",
              "comments      7\n",
              "dtype: int64"
            ]
          },
          "metadata": {},
          "execution_count": 303
        }
      ],
      "source": [
        "df.isnull().sum()"
      ]
    },
    {
      "cell_type": "code",
      "execution_count": null,
      "metadata": {
        "id": "ohxlMX--J37w"
      },
      "outputs": [],
      "source": [
        "df.dropna(axis=0,inplace=True)"
      ]
    },
    {
      "cell_type": "code",
      "execution_count": null,
      "metadata": {
        "id": "ZVpwAmiuKG4f",
        "colab": {
          "base_uri": "https://localhost:8080/"
        },
        "outputId": "2547bd35-eac5-4a87-8f29-85e05ab12af8"
      },
      "outputs": [
        {
          "output_type": "execute_result",
          "data": {
            "text/plain": [
              "(20331, 3)"
            ]
          },
          "metadata": {},
          "execution_count": 305
        }
      ],
      "source": [
        "df.shape"
      ]
    },
    {
      "cell_type": "code",
      "execution_count": null,
      "metadata": {
        "id": "dYNxsV_Ilg_Y"
      },
      "outputs": [],
      "source": [
        "df.reset_index(inplace=True)"
      ]
    },
    {
      "cell_type": "markdown",
      "metadata": {
        "id": "my6Y1r7WocfP"
      },
      "source": [
        "# **Task 2: Data Preprocessing**\n",
        "1. Remove digits\n",
        "2. Remove extra spaces\n",
        "3. Remove emojis\n",
        "4. Convert to lower case\n",
        "5. Lemmalization\n",
        "6. Store in list\n",
        "7. Deal with missing data"
      ]
    },
    {
      "cell_type": "markdown",
      "source": [
        "1) Import all dependencies"
      ],
      "metadata": {
        "id": "KiUQqX2lkKx5"
      }
    },
    {
      "cell_type": "code",
      "execution_count": null,
      "metadata": {
        "id": "JSYum4E9w7C6",
        "colab": {
          "base_uri": "https://localhost:8080/"
        },
        "outputId": "9fa30520-e54f-493e-b4a0-17e6ad10736c"
      },
      "outputs": [
        {
          "output_type": "stream",
          "name": "stdout",
          "text": [
            "Looking in indexes: https://pypi.org/simple, https://us-python.pkg.dev/colab-wheels/public/simple/\n",
            "Requirement already satisfied: contractions in /usr/local/lib/python3.10/dist-packages (0.1.73)\n",
            "Requirement already satisfied: textsearch>=0.0.21 in /usr/local/lib/python3.10/dist-packages (from contractions) (0.0.24)\n",
            "Requirement already satisfied: anyascii in /usr/local/lib/python3.10/dist-packages (from textsearch>=0.0.21->contractions) (0.3.2)\n",
            "Requirement already satisfied: pyahocorasick in /usr/local/lib/python3.10/dist-packages (from textsearch>=0.0.21->contractions) (2.0.0)\n",
            "Looking in indexes: https://pypi.org/simple, https://us-python.pkg.dev/colab-wheels/public/simple/\n",
            "Requirement already satisfied: emoji in /usr/local/lib/python3.10/dist-packages (2.2.0)\n"
          ]
        }
      ],
      "source": [
        "#import packages for regular expressions and emojis\n",
        "!pip install contractions\n",
        "import re\n",
        "!pip install emoji\n",
        "import emoji"
      ]
    },
    {
      "cell_type": "code",
      "execution_count": null,
      "metadata": {
        "id": "LrsHDdHmXbln",
        "colab": {
          "base_uri": "https://localhost:8080/"
        },
        "outputId": "2893802e-82ff-4104-b30f-c8c5c7140ed9"
      },
      "outputs": [
        {
          "output_type": "stream",
          "name": "stderr",
          "text": [
            "[nltk_data] Downloading package wordnet to /root/nltk_data...\n",
            "[nltk_data]   Package wordnet is already up-to-date!\n",
            "[nltk_data] Downloading package omw-1.4 to /root/nltk_data...\n",
            "[nltk_data]   Package omw-1.4 is already up-to-date!\n",
            "[nltk_data] Downloading package punkt to /root/nltk_data...\n",
            "[nltk_data]   Package punkt is already up-to-date!\n",
            "[nltk_data] Downloading package stopwords to /root/nltk_data...\n",
            "[nltk_data]   Package stopwords is already up-to-date!\n"
          ]
        }
      ],
      "source": [
        "import re \n",
        "from nltk.stem import WordNetLemmatizer\n",
        "import gensim\n",
        "import nltk\n",
        "import contractions\n",
        "nltk.download('wordnet')\n",
        "nltk.download('omw-1.4')\n",
        "nltk.download('punkt')\n",
        "nltk.download('stopwords')\n",
        "from nltk.corpus import stopwords"
      ]
    },
    {
      "cell_type": "markdown",
      "source": [
        "2) Defining functions to clean Data (As a part of preprocessing)"
      ],
      "metadata": {
        "id": "LIVJ7MfqkV2Z"
      }
    },
    {
      "cell_type": "code",
      "execution_count": null,
      "metadata": {
        "id": "l2_NLsLrXEPX"
      },
      "outputs": [],
      "source": [
        "def remove_links(text):\n",
        "  return re.sub(r\"(?:\\@|https?\\://)\\S+\", \"\", str(text))\n",
        "\n",
        "def remove_email(text):\n",
        "  return re.sub(r'\\S+@\\S+', '', text)\n",
        "\n",
        "def remove_extra_spaces(text):\n",
        "  return re.sub(' +',' ',text)\n",
        "\n",
        "def remove_extra_line(text):\n",
        "  return re.sub('\\n+',' ',text)\n",
        "\n",
        "def expand_contractions(text):\n",
        "    \"\"\"expand shortened words, e.g. don't to do not\"\"\"\n",
        "    text = contractions.fix(text)\n",
        "    return text\n",
        "\n",
        "def remove_digits(text):\n",
        "  return re.sub('[^a-zA-Z]',' ',text)\n",
        "\n",
        "def convert_lower(text):\n",
        "  return text.lower()\n",
        "\n",
        "def tokenize(text):\n",
        "  return text.split()\n"
      ]
    },
    {
      "cell_type": "markdown",
      "metadata": {
        "id": "7doRF0L9XfNq"
      },
      "source": [
        "3) Define function to remove stopwords"
      ]
    },
    {
      "cell_type": "code",
      "execution_count": null,
      "metadata": {
        "id": "mny6RnJlXlkg"
      },
      "outputs": [],
      "source": [
        "#fetch stopwords from predefined library\n",
        "stop_words = stopwords.words('english')\n",
        "\n",
        "#write a function to remove stopwords\n",
        "def remove_stop_words(data): \n",
        "  filtered_words=[]\n",
        "  for word in data:\n",
        "    if word not in stop_words:\n",
        "      filtered_words.append(word)\n",
        "\n",
        "  return filtered_words"
      ]
    },
    {
      "cell_type": "markdown",
      "metadata": {
        "id": "0p7REJN_aPd3"
      },
      "source": [
        "4) Apply preprocessing techniques and perform lemmatization by removing stopwords\n",
        "\n"
      ]
    },
    {
      "cell_type": "code",
      "execution_count": null,
      "metadata": {
        "id": "Nw6jWkCWaOHL",
        "colab": {
          "base_uri": "https://localhost:8080/"
        },
        "outputId": "efd40e36-c6bc-41db-bb0a-8d6c7ea71f52"
      },
      "outputs": [
        {
          "output_type": "execute_result",
          "data": {
            "text/plain": [
              "['class hard two one gen ed knockout content stimulating unlike class actually participate pas section easy offer extra credit every week funny dude much say',\n",
              " 'definitely going choose prof looney class interesting class easy bring note exam need remember lot lot bonus point available observatory session awesome',\n",
              " 'overall enjoyed class assignment straightforward interesting enjoy video project felt like one group cared enough help',\n",
              " 'yes possible get definitely work content pretty interesting tog get super organized class multiple thing due every week ton lecture go possible would avoid class week course definitely always somethingto class',\n",
              " 'professor looney great knowledge astronomy explain super easy way elementary class taught class great passion great illustration class definitely fun take interested knowledge class cover hesitate ask great teacher']"
            ]
          },
          "metadata": {},
          "execution_count": 311
        }
      ],
      "source": [
        "#Lemmelization\n",
        "corpus=[]\n",
        "for i in range(len(df)):\n",
        "  text = remove_links(str(df['comments'][i]))\n",
        "  text = remove_email(text)\n",
        "  text = remove_extra_spaces(text)\n",
        "  text = remove_extra_line(text)\n",
        "  text = expand_contractions(text)\n",
        "  text = remove_digits(text)\n",
        "  text = convert_lower(text)\n",
        "  text = tokenize(text)\n",
        "  lm=WordNetLemmatizer()\n",
        "  text = [lm.lemmatize(word) for word in text if word not in stopwords.words('english')]\n",
        "  text = \" \".join(text)\n",
        "  corpus.append(text)\n",
        "corpus[:5]"
      ]
    },
    {
      "cell_type": "markdown",
      "metadata": {
        "id": "aSYcy8QMpfnR"
      },
      "source": [
        "# **Task 3: Word Embedding**\n",
        "1. Convert words to vector \\\n",
        "1a. Using GloVe \\\n",
        "1b. Using word2vec\n",
        "2. Train network\n",
        "\n",
        "\n",
        "\n"
      ]
    },
    {
      "cell_type": "markdown",
      "metadata": {
        "id": "27RLEn5CBTr5"
      },
      "source": [
        "# **1a. Using Glove**"
      ]
    },
    {
      "cell_type": "markdown",
      "metadata": {
        "id": "wxtnFs0OBeTl"
      },
      "source": [
        "1) Import the dependencies"
      ]
    },
    {
      "cell_type": "code",
      "execution_count": null,
      "metadata": {
        "id": "hGXEKNqwACMl"
      },
      "outputs": [],
      "source": [
        "import os\n",
        "import urllib.request\n",
        "import numpy as np"
      ]
    },
    {
      "cell_type": "code",
      "execution_count": null,
      "metadata": {
        "id": "RO3YlM4COc4Q"
      },
      "outputs": [],
      "source": [
        "import tensorflow as tf\n",
        "from tensorflow import keras\n",
        "from tensorflow import keras\n",
        "from tensorflow.keras.preprocessing import text\n",
        "from tensorflow.keras.preprocessing import sequence\n",
        "from tensorflow.keras.preprocessing.text import Tokenizer\n",
        "from tensorflow.keras.preprocessing.sequence import pad_sequences\n",
        "import numpy as np\n",
        "from tqdm import tqdm"
      ]
    },
    {
      "cell_type": "markdown",
      "metadata": {
        "id": "54uPWRQxBsQT"
      },
      "source": [
        "2) Download pre-trained model for glove from https://nlp.stanford.edu/projects/glove/"
      ]
    },
    {
      "cell_type": "code",
      "execution_count": null,
      "metadata": {
        "id": "EY3bFTtbqlc_",
        "colab": {
          "base_uri": "https://localhost:8080/"
        },
        "outputId": "5612daf3-56a8-4761-a221-08fdd4fe0b55"
      },
      "outputs": [
        {
          "output_type": "execute_result",
          "data": {
            "text/plain": [
              "('glove.6B.zip', <http.client.HTTPMessage at 0x7f88b691c250>)"
            ]
          },
          "metadata": {},
          "execution_count": 71
        }
      ],
      "source": [
        "urllib.request.urlretrieve('https://nlp.stanford.edu/data/glove.6B.zip','glove.6B.zip')"
      ]
    },
    {
      "cell_type": "code",
      "execution_count": null,
      "metadata": {
        "id": "jXZ7-_u7swa5",
        "colab": {
          "base_uri": "https://localhost:8080/"
        },
        "outputId": "7e41538d-0c76-482e-9cd6-ae769cb0cddb"
      },
      "outputs": [
        {
          "output_type": "stream",
          "name": "stdout",
          "text": [
            "Archive:  /content/glove.6B.zip\n",
            "  inflating: /content/glove.6B.50d.txt  \n",
            "  inflating: /content/glove.6B.100d.txt  \n",
            "  inflating: /content/glove.6B.200d.txt  \n",
            "  inflating: /content/glove.6B.300d.txt  \n"
          ]
        }
      ],
      "source": [
        "!unzip \"/content/glove.6B.zip\" -d \"/content/\""
      ]
    },
    {
      "cell_type": "markdown",
      "metadata": {
        "id": "rwzks5cCCNUf"
      },
      "source": [
        "3) \n",
        "* Create a dictionary containing every word and its \n",
        "corresponding vector.\n",
        "* Loop through the file and extract word and vectors"
      ]
    },
    {
      "cell_type": "code",
      "execution_count": null,
      "metadata": {
        "id": "OkrqGViVDMOR"
      },
      "outputs": [],
      "source": [
        "embedded_dictionary = {}\n",
        "#with open('/content/glove.6B.200d.txt','r') as f:\n",
        "with open('/content/glove.6B.200d.txt','r') as f:\n",
        "\n",
        "  for line in f:\n",
        "    newvalues = line.split()\n",
        "    word = newvalues[0]\n",
        "    vector = np.asarray(newvalues[1:],'float32')\n",
        "    embedded_dictionary[word]=vector"
      ]
    },
    {
      "cell_type": "markdown",
      "source": [
        "4) Display embeddings for word bad"
      ],
      "metadata": {
        "id": "F8-nxZVxVUbh"
      }
    },
    {
      "cell_type": "code",
      "execution_count": null,
      "metadata": {
        "id": "MXxbFOSZD1w3",
        "colab": {
          "base_uri": "https://localhost:8080/"
        },
        "outputId": "e7f7c883-cf2a-410c-a668-5022a31571cc"
      },
      "outputs": [
        {
          "output_type": "execute_result",
          "data": {
            "text/plain": [
              "array([ 1.9733e-01, -3.6513e-01, -4.4720e-02, -1.5762e-01, -5.2375e-01,\n",
              "        1.2399e-01, -6.8523e-01, -3.3183e-01,  4.5466e-01,  6.6316e-01,\n",
              "       -1.8251e-02,  2.1219e-01,  2.8740e-02, -1.4164e-01,  4.6345e-01,\n",
              "        3.1726e-01, -5.8831e-01,  4.2796e-01,  4.5681e-02, -4.9805e-01,\n",
              "        1.7164e-01,  2.4047e+00, -3.7963e-01,  8.2891e-02, -2.7570e-01,\n",
              "       -6.8935e-01,  2.8693e-01,  1.3462e-01, -3.8978e-01, -3.6450e-01,\n",
              "        1.6104e-01, -3.8947e-01, -6.7416e-01,  3.4876e-01, -2.5767e-01,\n",
              "        7.6081e-02, -7.5393e-01, -4.2013e-01, -2.2229e-01,  8.3082e-02,\n",
              "        4.5537e-01, -2.4032e-01, -2.4604e-01,  7.1795e-01,  4.3490e-01,\n",
              "       -1.4638e-01,  2.5804e-01, -5.0251e-02, -2.0919e-01,  5.3911e-01,\n",
              "        5.5961e-02,  8.5284e-02,  1.2690e-01, -1.1956e-01,  1.9526e-01,\n",
              "       -1.0273e-01, -2.6263e-01,  1.5539e-01,  1.2326e-01, -3.6314e-01,\n",
              "        1.1937e-01, -2.9376e-01, -4.3331e-01,  1.7554e-01, -1.9433e-01,\n",
              "        4.2875e-01, -3.1927e-02,  7.6411e-02,  9.1824e-01,  5.2097e-01,\n",
              "        4.5882e-01, -1.5501e-01, -3.3219e-01, -6.5191e-02,  1.6775e-01,\n",
              "        2.1922e-01, -4.7281e-01,  2.3984e-01, -4.0465e-01, -1.0439e-01,\n",
              "       -3.4691e-01,  1.5753e-01, -5.7694e-01, -4.7437e-02, -2.0240e-01,\n",
              "       -6.5287e-01,  8.4951e-02, -1.3980e-01,  4.4506e-01, -9.8799e-01,\n",
              "       -4.0171e-02, -1.4593e-01,  3.8093e-01,  6.1772e-01,  2.3097e-03,\n",
              "        2.1583e-01, -7.4962e-01, -6.8691e-01,  4.6269e-02, -8.1172e-02,\n",
              "       -3.8705e-03,  4.8277e-01,  1.7737e-02,  3.2582e-01, -7.4123e-02,\n",
              "        5.6490e-01, -1.4126e-02,  9.4260e-01, -2.9498e-01,  2.7660e-01,\n",
              "        4.4080e-01,  5.4514e-01,  1.4435e-01,  2.8680e-01,  2.1803e-01,\n",
              "        2.4544e-01,  7.2372e-02,  6.5492e-02, -1.5449e-01, -3.3589e-01,\n",
              "        7.7813e-01,  5.3097e-02,  1.7474e-01, -5.9337e-01, -2.9772e-01,\n",
              "        1.4465e-01,  1.5864e-01,  3.9029e-01,  6.4841e-01, -4.4852e-02,\n",
              "       -5.3986e-01, -5.3329e-02,  1.4798e-03,  1.2680e-01, -2.3332e-01,\n",
              "       -1.0650e-01,  1.9711e-01,  3.7006e-01, -2.3177e-01, -2.3627e-01,\n",
              "       -3.4470e-02,  1.0455e-01, -1.3961e-01, -4.4577e-01,  1.3341e+00,\n",
              "       -5.6387e-02,  6.6159e-01, -9.2424e-01,  3.0929e-01,  5.7102e-01,\n",
              "        1.1759e-01,  7.0285e-02, -9.4016e-02, -1.0825e-01, -1.6214e-01,\n",
              "       -1.5485e-01, -1.5334e-01, -5.0790e-02, -6.9641e-02, -1.1453e-01,\n",
              "        5.5958e-01,  2.1826e-01,  6.7110e-02, -1.3074e-01, -2.7369e-01,\n",
              "       -1.5982e-01,  2.6641e-01,  8.5600e-01, -1.1592e-01,  1.4938e-02,\n",
              "       -3.8181e-01,  2.4406e-01,  1.6237e-01,  1.0154e-01,  4.3720e-01,\n",
              "        1.8502e-01, -4.5786e-01,  7.0190e-01,  2.9019e-01,  1.5988e-01,\n",
              "        1.0185e+00, -4.9470e-02, -3.1153e-01,  4.5822e-01, -5.7704e-01,\n",
              "       -2.6003e-01,  6.3846e-01, -4.7012e-03,  1.0199e-01,  2.2876e-01,\n",
              "        1.7656e-01, -6.4874e-01, -3.4069e-01,  1.2860e-01,  4.4697e-01,\n",
              "       -3.3129e-01, -4.6873e-02,  2.4106e-02, -1.6920e-01,  4.4173e-01],\n",
              "      dtype=float32)"
            ]
          },
          "metadata": {},
          "execution_count": 313
        }
      ],
      "source": [
        "embedded_dictionary['bad']"
      ]
    },
    {
      "cell_type": "markdown",
      "metadata": {
        "id": "zx8Zca8uPQvz"
      },
      "source": [
        "5) Find Maximum No of words from sequences of comments.\n",
        "We will use it as a parameter input length/sequence length while training the model"
      ]
    },
    {
      "cell_type": "code",
      "execution_count": null,
      "metadata": {
        "id": "1G9mCcipONhL",
        "colab": {
          "base_uri": "https://localhost:8080/"
        },
        "outputId": "cac2d547-b792-490c-9f32-cc6fc7206319"
      },
      "outputs": [
        {
          "output_type": "stream",
          "name": "stdout",
          "text": [
            "Maximum number of words: 76\n"
          ]
        }
      ],
      "source": [
        "# split each sentence in the 'df['comments']' column into a list of words and find the maximum no of words from sentences\n",
        "df['comments']=corpus\n",
        "max_words = df['comments'].str.split().apply(len).max()\n",
        "\n",
        "# print the maximum number of words\n",
        "print('Maximum number of words:', max_words)"
      ]
    },
    {
      "cell_type": "markdown",
      "metadata": {
        "id": "j0g8yp1vPds5"
      },
      "source": [
        "6) Tokenize and Pad Sequences so that every sequence will have equal no of words "
      ]
    },
    {
      "cell_type": "code",
      "execution_count": null,
      "metadata": {
        "id": "hd2NAiNoOkOR",
        "colab": {
          "base_uri": "https://localhost:8080/"
        },
        "outputId": "12606541-3b94-4a6f-cac2-be00fc607a92"
      },
      "outputs": [
        {
          "output_type": "stream",
          "name": "stdout",
          "text": [
            "Number of unique words: 14403\n"
          ]
        }
      ],
      "source": [
        "tokenizer_obj=Tokenizer()\n",
        "tokenizer_obj.fit_on_texts(corpus)\n",
        "sequences=tokenizer_obj.texts_to_sequences(corpus)\n",
        "\n",
        "comments_pad=pad_sequences(sequences,maxlen=max_words,truncating='post',padding='post')\n",
        "word_index=tokenizer_obj.word_index\n",
        "print('Number of unique words:',len(word_index))\n",
        "\n"
      ]
    },
    {
      "cell_type": "markdown",
      "metadata": {
        "id": "ROIBAVCsPsPa"
      },
      "source": [
        "7) Create embedding matrix using glove where every word will be represented with 200 dims"
      ]
    },
    {
      "cell_type": "code",
      "execution_count": null,
      "metadata": {
        "id": "7q7ZVtCLPsgU"
      },
      "outputs": [],
      "source": [
        "emedding_dim=200\n",
        "num_words=len(word_index)+1\n",
        "embedding_matrix=np.zeros((num_words,emedding_dim))"
      ]
    },
    {
      "cell_type": "code",
      "execution_count": null,
      "metadata": {
        "id": "jAbOSyMzOvyp",
        "colab": {
          "base_uri": "https://localhost:8080/"
        },
        "outputId": "0e8c1b58-31cd-48ea-c8e5-70faf4bff041"
      },
      "outputs": [
        {
          "output_type": "stream",
          "name": "stdout",
          "text": [
            "<class 'numpy.ndarray'>\n",
            "int32\n"
          ]
        }
      ],
      "source": [
        "print(type(comments_pad))\n",
        "print(comments_pad.dtype)\n"
      ]
    },
    {
      "cell_type": "markdown",
      "source": [
        "8) Converting feature vector of all inputs into dtype float32"
      ],
      "metadata": {
        "id": "O350g1hRI85L"
      }
    },
    {
      "cell_type": "code",
      "execution_count": null,
      "metadata": {
        "id": "4WkH7lwFQT6O"
      },
      "outputs": [],
      "source": [
        "new_comments = np.array(comments_pad, dtype=np.float32)\n",
        "new_quality=np.array(df['quality'], dtype=np.float32)\n",
        "new_difficulty=np.array(df['difficulty'],dtype=np.float32)\n"
      ]
    },
    {
      "cell_type": "markdown",
      "source": [
        "9) Verify the data types"
      ],
      "metadata": {
        "id": "PdiozkS0lNwy"
      }
    },
    {
      "cell_type": "code",
      "execution_count": null,
      "metadata": {
        "id": "fExer51EQxXG",
        "colab": {
          "base_uri": "https://localhost:8080/"
        },
        "outputId": "e358107c-d62c-4ba5-a31b-cea2e10ab6e3"
      },
      "outputs": [
        {
          "output_type": "stream",
          "name": "stdout",
          "text": [
            "float32\n",
            "float32\n",
            "float32\n"
          ]
        }
      ],
      "source": [
        "print(new_comments.dtype)\n",
        "print(new_quality.dtype)\n",
        "print(new_difficulty.dtype)"
      ]
    },
    {
      "cell_type": "markdown",
      "source": [
        "10) Check the shape of matrix"
      ],
      "metadata": {
        "id": "toJRBDU8lTFK"
      }
    },
    {
      "cell_type": "code",
      "execution_count": null,
      "metadata": {
        "id": "Tr2HBhqNO0Kl",
        "colab": {
          "base_uri": "https://localhost:8080/"
        },
        "outputId": "627fc22c-46e6-454b-8180-2a1da3df17c7"
      },
      "outputs": [
        {
          "output_type": "execute_result",
          "data": {
            "text/plain": [
              "(14404, 200)"
            ]
          },
          "metadata": {},
          "execution_count": 320
        }
      ],
      "source": [
        "embedding_matrix.shape"
      ]
    },
    {
      "cell_type": "markdown",
      "metadata": {
        "id": "zv50UiLCFT1K"
      },
      "source": [
        "11) Convert dataset into sequence of words and apply word embeddings on those sequences"
      ]
    },
    {
      "cell_type": "code",
      "execution_count": null,
      "metadata": {
        "id": "qBDhESx2D_W9"
      },
      "outputs": [],
      "source": [
        "#function to get word embedding\n",
        "def get_embedding(word):\n",
        "    if word in embedded_dictionary:\n",
        "        return embedded_dictionary[word]\n",
        "    else:\n",
        "        return np.zeros((100,))"
      ]
    },
    {
      "cell_type": "markdown",
      "metadata": {
        "id": "QKmtPxkSV3Uq"
      },
      "source": [
        "#**Task 4: Split Data into training and testing set : Using Glove Embeddings**"
      ]
    },
    {
      "cell_type": "code",
      "source": [
        "Y = np.stack((new_quality, new_difficulty),axis=1)\n",
        "from sklearn.model_selection import train_test_split\n",
        "\n",
        "X_train, X_test, Y_train, Y_test = train_test_split(new_comments, Y, test_size=0.2)\n"
      ],
      "metadata": {
        "id": "Gu0y4EluIT57"
      },
      "execution_count": null,
      "outputs": []
    },
    {
      "cell_type": "markdown",
      "metadata": {
        "id": "Ca4u1NVsTElN"
      },
      "source": [
        "#**Task 5: Train the Model using RNN and glove embeddings**"
      ]
    },
    {
      "cell_type": "code",
      "execution_count": null,
      "metadata": {
        "id": "qKZ9V64QZIHS"
      },
      "outputs": [],
      "source": [
        "from keras.models import Sequential\n",
        "from keras.layers import Flatten,Input\n",
        "from keras.layers import LSTM,Dense,Dropout,Embedding,CuDNNLSTM,Bidirectional,SpatialDropout1D,BatchNormalization,GRU\n",
        "from keras.initializers import Constant\n",
        "from keras.regularizers import l2"
      ]
    },
    {
      "cell_type": "code",
      "source": [
        "model1 = keras.Sequential([\n",
        "    keras.layers.Embedding(num_words, 200, embeddings_initializer=Constant(embedding_matrix),\n",
        "                   input_length=max_words),\n",
        "    keras.layers.Dense(256, activation='relu'),\n",
        "    keras.layers.Dropout(0.3),\n",
        "    keras.layers.GRU(128, activation='relu', return_sequences=True),\n",
        "    keras.layers.Dropout(0.3),\n",
        "    keras.layers.GRU(64, activation='relu', return_sequences=True),\n",
        "    keras.layers.Dropout(0.3),\n",
        "    keras.layers.GRU(32, activation='relu'),\n",
        "    keras.layers.Dropout(0.3),\n",
        "    keras.layers.Dense(1)\n",
        "])\n"
      ],
      "metadata": {
        "id": "i4BXMzN54n37",
        "colab": {
          "base_uri": "https://localhost:8080/"
        },
        "outputId": "b50e13a6-510c-4414-a0c9-5b9f5323d852"
      },
      "execution_count": null,
      "outputs": [
        {
          "output_type": "stream",
          "name": "stderr",
          "text": [
            "WARNING:tensorflow:Layer gru_30 will not use cuDNN kernels since it doesn't meet the criteria. It will use a generic GPU kernel as fallback when running on GPU.\n",
            "WARNING:tensorflow:Layer gru_31 will not use cuDNN kernels since it doesn't meet the criteria. It will use a generic GPU kernel as fallback when running on GPU.\n",
            "WARNING:tensorflow:Layer gru_32 will not use cuDNN kernels since it doesn't meet the criteria. It will use a generic GPU kernel as fallback when running on GPU.\n"
          ]
        }
      ]
    },
    {
      "cell_type": "code",
      "execution_count": null,
      "metadata": {
        "id": "ivgMIsOgpGte"
      },
      "outputs": [],
      "source": [
        "model1.compile(optimizer='adam',loss=\"mse\",metrics=['mse', 'mae'])\n"
      ]
    },
    {
      "cell_type": "code",
      "source": [
        "#Fit the model \n",
        "model1.fit(X_train, Y_train,batch_size=128,epochs=10,validation_split=0.1,verbose=1)"
      ],
      "metadata": {
        "colab": {
          "base_uri": "https://localhost:8080/"
        },
        "id": "RRohxaup3pDH",
        "outputId": "2cceff24-77a2-4087-f704-7eceaae73284"
      },
      "execution_count": null,
      "outputs": [
        {
          "output_type": "stream",
          "name": "stdout",
          "text": [
            "Epoch 1/10\n",
            "115/115 [==============================] - 117s 959ms/step - loss: 12.6087 - mse: 12.6087 - mae: 3.2538 - val_loss: 12.1325 - val_mse: 12.1325 - val_mae: 3.1826\n",
            "Epoch 2/10\n",
            "115/115 [==============================] - 105s 918ms/step - loss: 11.8838 - mse: 11.8838 - mae: 3.1404 - val_loss: 11.4299 - val_mse: 11.4299 - val_mae: 3.0702\n",
            "Epoch 3/10\n",
            "115/115 [==============================] - 98s 852ms/step - loss: 11.1965 - mse: 11.1965 - mae: 3.0291 - val_loss: 10.7644 - val_mse: 10.7644 - val_mae: 2.9599\n",
            "Epoch 4/10\n",
            "115/115 [==============================] - 103s 894ms/step - loss: 10.5452 - mse: 10.5452 - mae: 2.9195 - val_loss: 10.1335 - val_mse: 10.1335 - val_mae: 2.8513\n",
            "Epoch 5/10\n",
            "115/115 [==============================] - 104s 904ms/step - loss: 9.9285 - mse: 9.9285 - mae: 2.8119 - val_loss: 9.5368 - val_mse: 9.5368 - val_mae: 2.7447\n",
            "Epoch 6/10\n",
            "115/115 [==============================] - 86s 749ms/step - loss: 9.3448 - mse: 9.3448 - mae: 2.7062 - val_loss: 8.9720 - val_mse: 8.9720 - val_mae: 2.6398\n",
            "Epoch 7/10\n",
            "115/115 [==============================] - 76s 663ms/step - loss: 8.7931 - mse: 8.7931 - mae: 2.6022 - val_loss: 8.4388 - val_mse: 8.4388 - val_mae: 2.5368\n",
            "Epoch 8/10\n",
            "115/115 [==============================] - 73s 634ms/step - loss: 8.2721 - mse: 8.2721 - mae: 2.5002 - val_loss: 7.9360 - val_mse: 7.9360 - val_mae: 2.4357\n",
            "Epoch 9/10\n",
            "115/115 [==============================] - 75s 647ms/step - loss: 7.7804 - mse: 7.7804 - mae: 2.3999 - val_loss: 7.4614 - val_mse: 7.4614 - val_mae: 2.3362\n",
            "Epoch 10/10\n",
            "115/115 [==============================] - 75s 645ms/step - loss: 7.3168 - mse: 7.3168 - mae: 2.3063 - val_loss: 7.0140 - val_mse: 7.0140 - val_mae: 2.2556\n"
          ]
        },
        {
          "output_type": "execute_result",
          "data": {
            "text/plain": [
              "<keras.callbacks.History at 0x7f878be84340>"
            ]
          },
          "metadata": {},
          "execution_count": 327
        }
      ]
    },
    {
      "cell_type": "code",
      "source": [
        "y_prediction= model1.predict(X_test)"
      ],
      "metadata": {
        "colab": {
          "base_uri": "https://localhost:8080/"
        },
        "id": "OWfeQKVw6ddL",
        "outputId": "fe6471dc-f2cb-4012-ff5c-454c2739a194"
      },
      "execution_count": null,
      "outputs": [
        {
          "output_type": "stream",
          "name": "stdout",
          "text": [
            "382/382 [==============================] - 4s 6ms/step\n"
          ]
        }
      ]
    },
    {
      "cell_type": "code",
      "source": [
        "y_prediction[:5]"
      ],
      "metadata": {
        "colab": {
          "base_uri": "https://localhost:8080/"
        },
        "id": "tpdLW3gx6pEo",
        "outputId": "c59d8132-627d-4ee9-f819-fc0398fc7278"
      },
      "execution_count": null,
      "outputs": [
        {
          "output_type": "execute_result",
          "data": {
            "text/plain": [
              "array([[3.5273361],\n",
              "       [3.5273361],\n",
              "       [3.5273361],\n",
              "       [3.5273361],\n",
              "       [3.5273361]], dtype=float32)"
            ]
          },
          "metadata": {},
          "execution_count": 113
        }
      ]
    },
    {
      "cell_type": "markdown",
      "source": [
        "## **Trained Model with Glove Embeddings that shows good results**\n",
        "\n",
        "By training this model with Bidirectional GRU's and by adding some dropout layers , we were able to achieve upto mse upto 0.4 and validation mse upto 0.8. This model is working good for glove emebddings."
      ],
      "metadata": {
        "id": "jt_2DUeAIl4x"
      }
    },
    {
      "cell_type": "code",
      "source": [
        "\n",
        "from keras.layers import LSTM\n",
        "model2= Sequential([\n",
        "Embedding(num_words,200,input_length=max_words),\n",
        "    SpatialDropout1D(0.4),\n",
        "    Bidirectional(GRU(128,return_sequences=True)),\n",
        "    Dropout(0.2),\n",
        "    Bidirectional(GRU(64)),\n",
        "    Dropout(0.2),\n",
        "    Dense(64, activation=\"relu\"),\n",
        "    Dense(64, activation=\"relu\"),\n",
        "    Dropout(0.2),\n",
        "    Dense(32,activation=\"relu\"),\n",
        "    Dense(2,activation=\"linear\")\n",
        "])\n",
        "model2.summary()"
      ],
      "metadata": {
        "id": "HeTnlfyWQ8qb",
        "colab": {
          "base_uri": "https://localhost:8080/"
        },
        "outputId": "17af1db3-117c-46d8-ecd6-e4db6be7604c"
      },
      "execution_count": null,
      "outputs": [
        {
          "output_type": "stream",
          "name": "stdout",
          "text": [
            "Model: \"sequential_9\"\n",
            "_________________________________________________________________\n",
            " Layer (type)                Output Shape              Param #   \n",
            "=================================================================\n",
            " embedding_9 (Embedding)     (None, 76, 200)           3359800   \n",
            "                                                                 \n",
            " spatial_dropout1d_3 (Spatia  (None, 76, 200)          0         \n",
            " lDropout1D)                                                     \n",
            "                                                                 \n",
            " bidirectional_10 (Bidirecti  (None, 76, 256)          253440    \n",
            " onal)                                                           \n",
            "                                                                 \n",
            " dropout_29 (Dropout)        (None, 76, 256)           0         \n",
            "                                                                 \n",
            " bidirectional_11 (Bidirecti  (None, 128)              123648    \n",
            " onal)                                                           \n",
            "                                                                 \n",
            " dropout_30 (Dropout)        (None, 128)               0         \n",
            "                                                                 \n",
            " dense_27 (Dense)            (None, 64)                8256      \n",
            "                                                                 \n",
            " dense_28 (Dense)            (None, 64)                4160      \n",
            "                                                                 \n",
            " dropout_31 (Dropout)        (None, 64)                0         \n",
            "                                                                 \n",
            " dense_29 (Dense)            (None, 32)                2080      \n",
            "                                                                 \n",
            " dense_30 (Dense)            (None, 2)                 66        \n",
            "                                                                 \n",
            "=================================================================\n",
            "Total params: 3,751,450\n",
            "Trainable params: 3,751,450\n",
            "Non-trainable params: 0\n",
            "_________________________________________________________________\n"
          ]
        }
      ]
    },
    {
      "cell_type": "code",
      "source": [
        "model2.compile(optimizer='adam',loss=\"mse\",metrics=['mse', 'mae'])\n"
      ],
      "metadata": {
        "id": "PpzSyjN2RPcA"
      },
      "execution_count": null,
      "outputs": []
    },
    {
      "cell_type": "code",
      "source": [
        "model2.fit(X_train, Y_train,batch_size=128,epochs=10,validation_split=0.1,verbose=1)"
      ],
      "metadata": {
        "id": "gwQz5qW4RPpy",
        "colab": {
          "base_uri": "https://localhost:8080/"
        },
        "outputId": "0a020243-eb09-4a7b-a7e4-2fde03884943"
      },
      "execution_count": null,
      "outputs": [
        {
          "output_type": "stream",
          "name": "stdout",
          "text": [
            "Epoch 1/10\n",
            "344/344 [==============================] - 49s 109ms/step - loss: 1.8759 - mse: 1.8759 - mae: 1.0835 - val_loss: 1.0765 - val_mse: 1.0765 - val_mae: 0.8218\n",
            "Epoch 2/10\n",
            "344/344 [==============================] - 15s 45ms/step - loss: 0.9888 - mse: 0.9888 - mae: 0.7822 - val_loss: 1.0394 - val_mse: 1.0394 - val_mae: 0.8216\n",
            "Epoch 3/10\n",
            "344/344 [==============================] - 13s 37ms/step - loss: 0.7892 - mse: 0.7892 - mae: 0.6882 - val_loss: 0.9187 - val_mse: 0.9187 - val_mae: 0.7624\n",
            "Epoch 4/10\n",
            "344/344 [==============================] - 11s 31ms/step - loss: 0.6634 - mse: 0.6634 - mae: 0.6223 - val_loss: 1.0040 - val_mse: 1.0040 - val_mae: 0.8087\n",
            "Epoch 5/10\n",
            "344/344 [==============================] - 10s 29ms/step - loss: 0.5917 - mse: 0.5917 - mae: 0.5803 - val_loss: 0.9058 - val_mse: 0.9058 - val_mae: 0.7570\n",
            "Epoch 6/10\n",
            "344/344 [==============================] - 10s 28ms/step - loss: 0.5337 - mse: 0.5337 - mae: 0.5458 - val_loss: 0.9039 - val_mse: 0.9039 - val_mae: 0.7564\n",
            "Epoch 7/10\n",
            "344/344 [==============================] - 10s 30ms/step - loss: 0.4851 - mse: 0.4851 - mae: 0.5153 - val_loss: 0.9713 - val_mse: 0.9713 - val_mae: 0.8000\n",
            "Epoch 8/10\n",
            "344/344 [==============================] - 10s 29ms/step - loss: 0.4529 - mse: 0.4529 - mae: 0.4922 - val_loss: 0.8726 - val_mse: 0.8726 - val_mae: 0.7446\n",
            "Epoch 9/10\n",
            "344/344 [==============================] - 9s 27ms/step - loss: 0.4208 - mse: 0.4208 - mae: 0.4693 - val_loss: 0.8746 - val_mse: 0.8746 - val_mae: 0.7545\n",
            "Epoch 10/10\n",
            "344/344 [==============================] - 10s 30ms/step - loss: 0.4023 - mse: 0.4023 - mae: 0.4563 - val_loss: 0.8187 - val_mse: 0.8187 - val_mae: 0.7208\n"
          ]
        },
        {
          "output_type": "execute_result",
          "data": {
            "text/plain": [
              "<keras.callbacks.History at 0x7f88c117ec50>"
            ]
          },
          "metadata": {},
          "execution_count": 122
        }
      ]
    },
    {
      "cell_type": "code",
      "source": [
        "#Predicted Labels\n",
        "pred2 = model2.predict(X_test)\n",
        "pred2[:5]"
      ],
      "metadata": {
        "colab": {
          "base_uri": "https://localhost:8080/"
        },
        "id": "TzLVMZ8M6C3D",
        "outputId": "f9957048-8477-44b7-91eb-85573eb22e2c"
      },
      "execution_count": null,
      "outputs": [
        {
          "output_type": "stream",
          "name": "stdout",
          "text": [
            "382/382 [==============================] - 5s 9ms/step\n"
          ]
        },
        {
          "output_type": "execute_result",
          "data": {
            "text/plain": [
              "array([[3.2843676 , 3.0867293 ],\n",
              "       [4.2647133 , 0.94531024],\n",
              "       [3.6990047 , 3.513675  ],\n",
              "       [1.3723811 , 2.6331584 ],\n",
              "       [3.7967346 , 3.489458  ]], dtype=float32)"
            ]
          },
          "metadata": {},
          "execution_count": 123
        }
      ]
    },
    {
      "cell_type": "code",
      "source": [
        "#Actual Labels\n",
        "Y_test[:5]"
      ],
      "metadata": {
        "colab": {
          "base_uri": "https://localhost:8080/"
        },
        "id": "D7PW1H46-jCv",
        "outputId": "6cdf8a1e-235d-4d0e-ad71-cb45ca136576"
      },
      "execution_count": null,
      "outputs": [
        {
          "output_type": "execute_result",
          "data": {
            "text/plain": [
              "array([[4., 4.],\n",
              "       [5., 1.],\n",
              "       [5., 3.],\n",
              "       [2., 3.],\n",
              "       [5., 5.]], dtype=float32)"
            ]
          },
          "metadata": {},
          "execution_count": 124
        }
      ]
    },
    {
      "cell_type": "markdown",
      "source": [
        "**Here predicted labels and actual labels are somewhat matching.**"
      ],
      "metadata": {
        "id": "R30yBVRAcZkY"
      }
    },
    {
      "cell_type": "markdown",
      "metadata": {
        "id": "0pAQQbIs4kL0"
      },
      "source": [
        "\n",
        "\n",
        "#**One hot encoding**\n",
        "\n",
        "1.   One hot encoding is used to convert the sentences into the numerical values. Each word in each sentences converted ranging from 0 to total unique words in dataset. \n",
        "2.   After that, we performed the the padding to make each sentence of same length by finding maximum length of sentence\n",
        "\n"
      ]
    },
    {
      "cell_type": "code",
      "execution_count": null,
      "metadata": {
        "id": "RHFgd-CeYImD"
      },
      "outputs": [],
      "source": [
        "#importing preprocessing libraries\n",
        "from keras.preprocessing.text import one_hot\n",
        "from tensorflow.keras.preprocessing.sequence import pad_sequences"
      ]
    },
    {
      "cell_type": "code",
      "execution_count": null,
      "metadata": {
        "id": "RsVxXA72u4ER",
        "colab": {
          "base_uri": "https://localhost:8080/"
        },
        "outputId": "aca63671-7b0e-4e60-9823-9202a77fa486"
      },
      "outputs": [
        {
          "output_type": "execute_result",
          "data": {
            "text/plain": [
              "[[6471,\n",
              "  46292,\n",
              "  45537,\n",
              "  24437,\n",
              "  22678,\n",
              "  49604,\n",
              "  17103,\n",
              "  5966,\n",
              "  5240,\n",
              "  9340,\n",
              "  6471,\n",
              "  32791,\n",
              "  7320,\n",
              "  28489,\n",
              "  37765,\n",
              "  49357,\n",
              "  9126,\n",
              "  11149,\n",
              "  3958,\n",
              "  33541,\n",
              "  35539,\n",
              "  3255,\n",
              "  47132,\n",
              "  26023,\n",
              "  31748],\n",
              " [46099,\n",
              "  18533,\n",
              "  8215,\n",
              "  31414,\n",
              "  5779,\n",
              "  6471,\n",
              "  44418,\n",
              "  6471,\n",
              "  49357,\n",
              "  7780,\n",
              "  13487,\n",
              "  44949,\n",
              "  24910,\n",
              "  24945,\n",
              "  25768,\n",
              "  25768,\n",
              "  2703,\n",
              "  8799,\n",
              "  32644,\n",
              "  25470,\n",
              "  49398,\n",
              "  15845],\n",
              " [2977,\n",
              "  8989,\n",
              "  6471,\n",
              "  22519,\n",
              "  20114,\n",
              "  44418,\n",
              "  15215,\n",
              "  27989,\n",
              "  24568,\n",
              "  4700,\n",
              "  18358,\n",
              "  24437,\n",
              "  21889,\n",
              "  12289,\n",
              "  30665,\n",
              "  3309],\n",
              " [14082,\n",
              "  25816,\n",
              "  8961,\n",
              "  46099,\n",
              "  29830,\n",
              "  5966,\n",
              "  44487,\n",
              "  44418,\n",
              "  493,\n",
              "  8961,\n",
              "  40353,\n",
              "  10187,\n",
              "  6471,\n",
              "  1379,\n",
              "  12573,\n",
              "  23328,\n",
              "  33541,\n",
              "  35539,\n",
              "  48813,\n",
              "  2796,\n",
              "  18569,\n",
              "  25816,\n",
              "  36008,\n",
              "  1636,\n",
              "  6471,\n",
              "  35539,\n",
              "  18651,\n",
              "  46099,\n",
              "  18791,\n",
              "  46106,\n",
              "  6471],\n",
              " [31248,\n",
              "  5779,\n",
              "  39874,\n",
              "  41226,\n",
              "  6124,\n",
              "  4457,\n",
              "  40353,\n",
              "  49357,\n",
              "  32036,\n",
              "  12402,\n",
              "  6471,\n",
              "  19727,\n",
              "  6471,\n",
              "  39874,\n",
              "  29816,\n",
              "  39874,\n",
              "  18855,\n",
              "  6471,\n",
              "  46099,\n",
              "  26224,\n",
              "  35322,\n",
              "  40591,\n",
              "  41226,\n",
              "  6471,\n",
              "  23209,\n",
              "  19033,\n",
              "  11679,\n",
              "  39874,\n",
              "  36121]]"
            ]
          },
          "metadata": {},
          "execution_count": 126
        }
      ],
      "source": [
        "#performed one hot encoding\n",
        "voc_size = len(set(corpus))\n",
        "one_hot_repr = [one_hot(words,voc_size) for words in corpus]\n",
        "one_hot_repr[:5]"
      ]
    },
    {
      "cell_type": "code",
      "execution_count": null,
      "metadata": {
        "id": "hQ1hse7ru7Kw",
        "colab": {
          "base_uri": "https://localhost:8080/"
        },
        "outputId": "8692a4fa-66ea-463d-f6b6-158656ea84b0"
      },
      "outputs": [
        {
          "output_type": "execute_result",
          "data": {
            "text/plain": [
              "array([ 6471, 46292, 45537, 24437, 22678, 49604, 17103,  5966,  5240,\n",
              "        9340,  6471, 32791,  7320, 28489, 37765, 49357,  9126, 11149,\n",
              "        3958, 33541, 35539,  3255, 47132, 26023, 31748,     0,     0,\n",
              "           0,     0,     0,     0,     0,     0,     0,     0,     0,\n",
              "           0,     0,     0,     0,     0,     0,     0,     0,     0,\n",
              "           0,     0,     0,     0,     0,     0,     0,     0,     0,\n",
              "           0,     0,     0,     0,     0,     0,     0,     0,     0,\n",
              "           0,     0,     0,     0,     0,     0,     0,     0,     0,\n",
              "           0,     0,     0,     0,     0,     0,     0,     0,     0,\n",
              "           0,     0,     0,     0,     0,     0,     0,     0,     0,\n",
              "           0,     0,     0,     0,     0,     0,     0,     0,     0,\n",
              "           0,     0,     0,     0,     0,     0,     0,     0,     0,\n",
              "           0,     0,     0,     0,     0,     0,     0,     0,     0,\n",
              "           0,     0,     0,     0,     0,     0,     0,     0,     0,\n",
              "           0,     0,     0,     0,     0,     0,     0,     0,     0,\n",
              "           0,     0,     0,     0,     0,     0,     0,     0,     0,\n",
              "           0,     0,     0,     0,     0,     0,     0,     0,     0,\n",
              "           0,     0,     0,     0,     0,     0,     0,     0,     0,\n",
              "           0,     0,     0,     0,     0,     0,     0,     0,     0,\n",
              "           0,     0,     0,     0,     0,     0,     0,     0,     0,\n",
              "           0,     0,     0,     0,     0,     0,     0,     0,     0,\n",
              "           0,     0,     0,     0,     0,     0,     0,     0,     0,\n",
              "           0,     0,     0,     0,     0,     0,     0,     0,     0,\n",
              "           0,     0,     0,     0,     0,     0,     0,     0,     0,\n",
              "           0,     0,     0,     0,     0,     0,     0,     0,     0,\n",
              "           0,     0,     0,     0,     0,     0,     0,     0,     0,\n",
              "           0,     0,     0,     0,     0,     0,     0,     0,     0,\n",
              "           0,     0,     0,     0,     0,     0,     0,     0,     0,\n",
              "           0,     0,     0,     0,     0,     0,     0,     0,     0,\n",
              "           0,     0,     0,     0,     0,     0,     0,     0,     0,\n",
              "           0,     0,     0,     0,     0,     0,     0,     0,     0,\n",
              "           0,     0,     0,     0,     0,     0,     0,     0,     0,\n",
              "           0,     0,     0,     0,     0,     0,     0,     0,     0,\n",
              "           0,     0,     0,     0,     0,     0,     0,     0,     0,\n",
              "           0,     0,     0,     0,     0,     0,     0,     0,     0,\n",
              "           0,     0,     0,     0,     0,     0,     0,     0,     0,\n",
              "           0,     0,     0,     0,     0,     0,     0,     0,     0,\n",
              "           0,     0,     0,     0,     0,     0,     0,     0,     0,\n",
              "           0,     0,     0,     0,     0,     0,     0,     0,     0,\n",
              "           0,     0,     0,     0,     0,     0,     0,     0,     0,\n",
              "           0,     0,     0,     0,     0,     0,     0,     0,     0,\n",
              "           0,     0,     0,     0,     0,     0,     0,     0,     0,\n",
              "           0,     0,     0,     0,     0,     0,     0,     0,     0,\n",
              "           0,     0,     0,     0,     0,     0,     0,     0,     0,\n",
              "           0,     0,     0,     0,     0,     0,     0,     0,     0],\n",
              "      dtype=int32)"
            ]
          },
          "metadata": {},
          "execution_count": 127
        }
      ],
      "source": [
        "#Performed padding\n",
        "sent_len = max([len(sent) for sent in corpus])\n",
        "embedded_docs = pad_sequences(one_hot_repr,padding=\"post\",maxlen=sent_len)\n",
        "embedded_docs[0]"
      ]
    },
    {
      "cell_type": "code",
      "execution_count": null,
      "metadata": {
        "id": "dnwr-a6dvEjG",
        "colab": {
          "base_uri": "https://localhost:8080/"
        },
        "outputId": "3a306106-45a6-4eb1-f017-8857dbe895de"
      },
      "outputs": [
        {
          "output_type": "stream",
          "name": "stdout",
          "text": [
            "60993\n",
            "60993\n"
          ]
        }
      ],
      "source": [
        "#storing quality and difficulty in different list\n",
        "rating = []\n",
        "difficulty = []\n",
        "for index,row in df.iterrows():\n",
        "    if type(row[\"comments\"]) == str:\n",
        "        rating.append(row[\"quality\"])\n",
        "        difficulty.append(row[\"difficulty\"])\n",
        "print(len(rating))\n",
        "print(len(difficulty))"
      ]
    },
    {
      "cell_type": "code",
      "source": [
        "#Preparing X and Y\n",
        "import numpy as np\n",
        "X = np.array(embedded_docs)\n",
        "Y = np.stack((rating,difficulty),axis=1)"
      ],
      "metadata": {
        "id": "qyXUbqipWqaO"
      },
      "execution_count": null,
      "outputs": []
    },
    {
      "cell_type": "code",
      "execution_count": null,
      "metadata": {
        "id": "kC8FFfGivFLQ"
      },
      "outputs": [],
      "source": [
        "#Spliting the data into train and test by spliting ratio of 75-25%\n",
        "from sklearn.model_selection import train_test_split\n",
        "x_train,x_test,y_train,y_test = train_test_split(X,Y,test_size=0.25,random_state=42)\n"
      ]
    },
    {
      "cell_type": "code",
      "source": [
        "#import keras libraries\n",
        "from keras.models import Sequential\n",
        "from keras.layers import Flatten,Input\n",
        "from keras.layers import LSTM,Dense,Dropout,Embedding,CuDNNLSTM,Bidirectional,SpatialDropout1D,BatchNormalization,GRU\n",
        "from keras.initializers import Constant\n",
        "from keras.regularizers import l2"
      ],
      "metadata": {
        "id": "ylYYt29scSE7"
      },
      "execution_count": null,
      "outputs": []
    },
    {
      "cell_type": "code",
      "execution_count": null,
      "metadata": {
        "id": "61qpNpjGvIC2",
        "colab": {
          "base_uri": "https://localhost:8080/"
        },
        "outputId": "6b5f646f-23e4-4911-df21-9c123f8f9e26"
      },
      "outputs": [
        {
          "output_type": "stream",
          "name": "stdout",
          "text": [
            "Model: \"sequential_10\"\n",
            "_________________________________________________________________\n",
            " Layer (type)                Output Shape              Param #   \n",
            "=================================================================\n",
            " embedding_10 (Embedding)    (None, 405, 100)          5014700   \n",
            "                                                                 \n",
            " bidirectional_12 (Bidirecti  (None, 405, 128)         63744     \n",
            " onal)                                                           \n",
            "                                                                 \n",
            " dropout_32 (Dropout)        (None, 405, 128)          0         \n",
            "                                                                 \n",
            " bidirectional_13 (Bidirecti  (None, 64)               31104     \n",
            " onal)                                                           \n",
            "                                                                 \n",
            " dropout_33 (Dropout)        (None, 64)                0         \n",
            "                                                                 \n",
            " dense_31 (Dense)            (None, 128)               8320      \n",
            "                                                                 \n",
            " dense_32 (Dense)            (None, 64)                8256      \n",
            "                                                                 \n",
            " dropout_34 (Dropout)        (None, 64)                0         \n",
            "                                                                 \n",
            " dense_33 (Dense)            (None, 32)                2080      \n",
            "                                                                 \n",
            " dense_34 (Dense)            (None, 2)                 66        \n",
            "                                                                 \n",
            "=================================================================\n",
            "Total params: 5,128,270\n",
            "Trainable params: 5,128,270\n",
            "Non-trainable params: 0\n",
            "_________________________________________________________________\n"
          ]
        }
      ],
      "source": [
        "#Build the model\n",
        "model = Sequential([\n",
        "    Embedding(voc_size,100,input_length=sent_len),\n",
        "    Bidirectional(GRU(64,return_sequences=True)),\n",
        "    Dropout(0.4),\n",
        "    Bidirectional(GRU(32)),\n",
        "    Dropout(0.4),\n",
        "    Dense(128,activation=\"relu\"),\n",
        "    Dense(64,activation=\"relu\"),\n",
        "    Dropout(0.5),\n",
        "    Dense(32,activation=\"relu\"),\n",
        "    Dense(2,activation=\"linear\")\n",
        "])\n",
        "model.summary()"
      ]
    },
    {
      "cell_type": "code",
      "execution_count": null,
      "metadata": {
        "id": "PfljhCAUvNoT"
      },
      "outputs": [],
      "source": [
        "#compiled the model\n",
        "model.compile(optimizer=\"adam\",loss=\"mse\")"
      ]
    },
    {
      "cell_type": "code",
      "execution_count": null,
      "metadata": {
        "id": "KUD5iGVTvQMP",
        "colab": {
          "base_uri": "https://localhost:8080/"
        },
        "outputId": "55fd01fb-50a7-476f-a926-af9ac6617512"
      },
      "outputs": [
        {
          "output_type": "stream",
          "name": "stdout",
          "text": [
            "Epoch 1/10\n",
            "1287/1287 [==============================] - 117s 83ms/step - loss: 1.7431 - val_loss: 1.3868\n",
            "Epoch 2/10\n",
            "1287/1287 [==============================] - 73s 57ms/step - loss: 0.9720 - val_loss: 1.1676\n",
            "Epoch 3/10\n",
            "1287/1287 [==============================] - 72s 56ms/step - loss: 0.7540 - val_loss: 1.1457\n",
            "Epoch 4/10\n",
            "1287/1287 [==============================] - 72s 56ms/step - loss: 0.6396 - val_loss: 0.9817\n",
            "Epoch 5/10\n",
            "1287/1287 [==============================] - 69s 54ms/step - loss: 0.5662 - val_loss: 0.9436\n",
            "Epoch 6/10\n",
            "1287/1287 [==============================] - 72s 56ms/step - loss: 0.5100 - val_loss: 0.9295\n",
            "Epoch 7/10\n",
            "1287/1287 [==============================] - 69s 54ms/step - loss: 0.4674 - val_loss: 0.8897\n",
            "Epoch 8/10\n",
            "1287/1287 [==============================] - 71s 55ms/step - loss: 0.4322 - val_loss: 0.8619\n",
            "Epoch 9/10\n",
            "1287/1287 [==============================] - 69s 54ms/step - loss: 0.4035 - val_loss: 0.7799\n",
            "Epoch 10/10\n",
            "1287/1287 [==============================] - 70s 55ms/step - loss: 0.3770 - val_loss: 0.8363\n"
          ]
        }
      ],
      "source": [
        "#Fit the model on training data\n",
        "history=model.fit(x_train,y_train,epochs=10,validation_split=0.1,verbose=1)"
      ]
    },
    {
      "cell_type": "code",
      "source": [
        "import matplotlib.pyplot as plt\n",
        "# Plot the training and validation loss over each epoch\n",
        "plt.plot(history.history['loss'])\n",
        "plt.plot(history.history['val_loss'])\n",
        "plt.title('Model loss')\n",
        "plt.ylabel('Loss')\n",
        "plt.xlabel('Epoch')\n",
        "plt.legend(['Train', 'Validation'], loc='upper left')\n",
        "plt.show()"
      ],
      "metadata": {
        "id": "U4yuUPEucCGQ",
        "colab": {
          "base_uri": "https://localhost:8080/",
          "height": 472
        },
        "outputId": "6a18efaa-f188-4ff5-ad15-81bf70c67bbf"
      },
      "execution_count": null,
      "outputs": [
        {
          "output_type": "display_data",
          "data": {
            "text/plain": [
              "<Figure size 640x480 with 1 Axes>"
            ],
            "image/png": "[encoded data removed]"
          },
          "metadata": {}
        }
      ]
    },
    {
      "cell_type": "code",
      "execution_count": null,
      "metadata": {
        "id": "uQUO-odHvWlL",
        "colab": {
          "base_uri": "https://localhost:8080/"
        },
        "outputId": "950952bc-83e2-4030-b1a3-b5fe28608f74"
      },
      "outputs": [
        {
          "output_type": "stream",
          "name": "stdout",
          "text": [
            "477/477 [==============================] - 14s 27ms/step\n"
          ]
        },
        {
          "output_type": "execute_result",
          "data": {
            "text/plain": [
              "array([[1.8876605, 3.7087598],\n",
              "       [3.9427278, 3.2785344],\n",
              "       [3.3221188, 2.9812076],\n",
              "       [2.4894245, 2.9957952],\n",
              "       [3.56857  , 4.0621433]], dtype=float32)"
            ]
          },
          "metadata": {},
          "execution_count": 137
        }
      ],
      "source": [
        "#Make predictions\n",
        "pred = model.predict(x_test)\n",
        "pred[:5]"
      ]
    },
    {
      "cell_type": "code",
      "execution_count": null,
      "metadata": {
        "id": "00ufvu3EvXYJ",
        "colab": {
          "base_uri": "https://localhost:8080/"
        },
        "outputId": "9e716e1d-993c-4637-d03b-fafcda96bb47"
      },
      "outputs": [
        {
          "output_type": "stream",
          "name": "stdout",
          "text": [
            "Actual rating\n",
            "[[4.5 3. ]\n",
            " [2.5 4. ]\n",
            " [1.  3. ]\n",
            " [5.  3. ]\n",
            " [1.  5. ]]\n"
          ]
        }
      ],
      "source": [
        "#Actual values for comparison\n",
        "print(\"Actual rating\")\n",
        "print(y_train[:5])\n"
      ]
    },
    {
      "cell_type": "markdown",
      "source": [
        "**As per the results the Mean square error for training is low 0.3770 and mean square error for validation is 0.8363 which is higher than the previous one. Also, the training loss is reducing exponentially while validation loss going reduced and went upward that shows overfitting**"
      ],
      "metadata": {
        "id": "BVZQh1yzVFUG"
      }
    },
    {
      "cell_type": "markdown",
      "source": [
        "# **Data Augmentation**\n",
        "As you see the above results in overfitting, to avoid that we added the text augmentsation part using two methods. For that we have used inbuilt library nlpaug\n",
        "\n",
        "1.   Inserting Synonymes:\n",
        "> We inserted the synonames for each sentence in the dataframe by using SynonymAug function which inserts synonymes to maximum 3 words for each sentence\n",
        "\n",
        "\n",
        "\n",
        "2.   Swapping the random words in sentences:\n",
        "> We swapped the words from each sentence using RandomWordAug with action parameter as swap\n",
        "\n",
        "\n"
      ],
      "metadata": {
        "id": "unc0gRm99d3h"
      }
    },
    {
      "cell_type": "code",
      "source": [
        "!pip install nlpaug"
      ],
      "metadata": {
        "id": "vMg67c1l9c3l",
        "colab": {
          "base_uri": "https://localhost:8080/"
        },
        "outputId": "aa3e27a9-089e-4213-d9ff-df9af88c9bea"
      },
      "execution_count": null,
      "outputs": [
        {
          "output_type": "stream",
          "name": "stdout",
          "text": [
            "Looking in indexes: https://pypi.org/simple, https://us-python.pkg.dev/colab-wheels/public/simple/\n",
            "Requirement already satisfied: nlpaug in /usr/local/lib/python3.10/dist-packages (1.1.11)\n",
            "Requirement already satisfied: gdown>=4.0.0 in /usr/local/lib/python3.10/dist-packages (from nlpaug) (4.6.6)\n",
            "Requirement already satisfied: requests>=2.22.0 in /usr/local/lib/python3.10/dist-packages (from nlpaug) (2.27.1)\n",
            "Requirement already satisfied: numpy>=1.16.2 in /usr/local/lib/python3.10/dist-packages (from nlpaug) (1.22.4)\n",
            "Requirement already satisfied: pandas>=1.2.0 in /usr/local/lib/python3.10/dist-packages (from nlpaug) (1.5.3)\n",
            "Requirement already satisfied: six in /usr/local/lib/python3.10/dist-packages (from gdown>=4.0.0->nlpaug) (1.16.0)\n",
            "Requirement already satisfied: tqdm in /usr/local/lib/python3.10/dist-packages (from gdown>=4.0.0->nlpaug) (4.65.0)\n",
            "Requirement already satisfied: beautifulsoup4 in /usr/local/lib/python3.10/dist-packages (from gdown>=4.0.0->nlpaug) (4.11.2)\n",
            "Requirement already satisfied: filelock in /usr/local/lib/python3.10/dist-packages (from gdown>=4.0.0->nlpaug) (3.12.0)\n",
            "Requirement already satisfied: python-dateutil>=2.8.1 in /usr/local/lib/python3.10/dist-packages (from pandas>=1.2.0->nlpaug) (2.8.2)\n",
            "Requirement already satisfied: pytz>=2020.1 in /usr/local/lib/python3.10/dist-packages (from pandas>=1.2.0->nlpaug) (2022.7.1)\n",
            "Requirement already satisfied: charset-normalizer~=2.0.0 in /usr/local/lib/python3.10/dist-packages (from requests>=2.22.0->nlpaug) (2.0.12)\n",
            "Requirement already satisfied: idna<4,>=2.5 in /usr/local/lib/python3.10/dist-packages (from requests>=2.22.0->nlpaug) (3.4)\n",
            "Requirement already satisfied: urllib3<1.27,>=1.21.1 in /usr/local/lib/python3.10/dist-packages (from requests>=2.22.0->nlpaug) (1.26.15)\n",
            "Requirement already satisfied: certifi>=2017.4.17 in /usr/local/lib/python3.10/dist-packages (from requests>=2.22.0->nlpaug) (2022.12.7)\n",
            "Requirement already satisfied: soupsieve>1.2 in /usr/local/lib/python3.10/dist-packages (from beautifulsoup4->gdown>=4.0.0->nlpaug) (2.4.1)\n",
            "Requirement already satisfied: PySocks!=1.5.7,>=1.5.6 in /usr/local/lib/python3.10/dist-packages (from requests>=2.22.0->nlpaug) (1.7.1)\n"
          ]
        }
      ]
    },
    {
      "cell_type": "code",
      "source": [
        "#import nlpaug library\n",
        "import nlpaug.augmenter.word as naw\n",
        "import nlpaug.augmenter.sentence as nas"
      ],
      "metadata": {
        "id": "-5ZWy2fD9l47"
      },
      "execution_count": null,
      "outputs": []
    },
    {
      "cell_type": "code",
      "source": [
        "#define the augmentors\n",
        "aug = naw.SynonymAug(aug_src=\"wordnet\",aug_max=3)\n",
        "aug1 = naw.RandomWordAug(action='swap')"
      ],
      "metadata": {
        "id": "w99sgjBgsmGS"
      },
      "execution_count": null,
      "outputs": []
    },
    {
      "cell_type": "code",
      "source": [
        "#defined two dataframes for augmentation\n",
        "synaug_df = pd.DataFrame(columns=['comments','quality','difficulty'])\n",
        "swapaug_df = pd.DataFrame(columns=['comments','quality','difficulty'])"
      ],
      "metadata": {
        "id": "Lepv8umYsqWO"
      },
      "execution_count": null,
      "outputs": []
    },
    {
      "cell_type": "code",
      "source": [
        "#Augment by inserting synonymes\n",
        "aug_text = []\n",
        "for idx,row in df.iterrows():\n",
        "  aug_data = {}\n",
        "  aug_sent = aug.augment(row[\"comments\"])\n",
        "  aug_data[\"comments\"] = aug_sent\n",
        "  aug_data[\"quality\"] = row[\"quality\"]\n",
        "  aug_data[\"difficulty\"] = row[\"difficulty\"]\n",
        "  aug_data_df = pd.DataFrame([aug_data])\n",
        "  synaug_df = pd.concat([synaug_df, aug_data_df], ignore_index = True)\n"
      ],
      "metadata": {
        "id": "7oNNsbYvstXH"
      },
      "execution_count": null,
      "outputs": []
    },
    {
      "cell_type": "code",
      "source": [
        "synaug_df.shape"
      ],
      "metadata": {
        "id": "wLoDAt0asx7W",
        "colab": {
          "base_uri": "https://localhost:8080/"
        },
        "outputId": "dead18c2-4b5c-4216-a9e9-3429cc3436fe"
      },
      "execution_count": null,
      "outputs": [
        {
          "output_type": "execute_result",
          "data": {
            "text/plain": [
              "(20331, 3)"
            ]
          },
          "metadata": {},
          "execution_count": 243
        }
      ]
    },
    {
      "cell_type": "code",
      "source": [
        "#Augment by swapping the words\n",
        "aug_text = []\n",
        "for idx,row in df.iterrows():\n",
        "  aug_data = {}\n",
        "  aug_sent = aug1.augment(row[\"comments\"])\n",
        "  aug_data[\"comments\"] = aug_sent\n",
        "  aug_data[\"quality\"] = row[\"quality\"]\n",
        "  aug_data[\"difficulty\"] = row[\"difficulty\"]\n",
        "  aug_data_df = pd.DataFrame([aug_data])\n",
        "  swapaug_df = pd.concat([swapaug_df, aug_data_df], ignore_index = True)\n"
      ],
      "metadata": {
        "id": "3JAoLoaps07Y"
      },
      "execution_count": null,
      "outputs": []
    },
    {
      "cell_type": "code",
      "source": [
        "swapaug_df.shape"
      ],
      "metadata": {
        "id": "_y9QZhkluXQS",
        "colab": {
          "base_uri": "https://localhost:8080/"
        },
        "outputId": "0b5918b7-5596-4e89-d3f7-7b7437e94d9d"
      },
      "execution_count": null,
      "outputs": [
        {
          "output_type": "execute_result",
          "data": {
            "text/plain": [
              "(20331, 3)"
            ]
          },
          "metadata": {},
          "execution_count": 245
        }
      ]
    },
    {
      "cell_type": "code",
      "source": [
        "#concate the dataframe \n",
        "df = pd.concat([df, synaug_df], ignore_index = True)\n",
        "df = pd.concat([df, swapaug_df], ignore_index = True)\n",
        "df.shape"
      ],
      "metadata": {
        "id": "Py8QK9bRuZk8",
        "colab": {
          "base_uri": "https://localhost:8080/"
        },
        "outputId": "9201aedd-4e3d-4332-963f-fea600bf79c4"
      },
      "execution_count": null,
      "outputs": [
        {
          "output_type": "execute_result",
          "data": {
            "text/plain": [
              "(60993, 4)"
            ]
          },
          "metadata": {},
          "execution_count": 246
        }
      ]
    },
    {
      "cell_type": "code",
      "source": [
        "df.head()\n",
        "#df = df.drop(['index'],axis=1)"
      ],
      "metadata": {
        "id": "bvnpdklnufNt",
        "colab": {
          "base_uri": "https://localhost:8080/",
          "height": 206
        },
        "outputId": "0576b4c5-361e-469f-8553-47cb5f53380d"
      },
      "execution_count": null,
      "outputs": [
        {
          "output_type": "execute_result",
          "data": {
            "text/plain": [
              "   index  quality  difficulty  \\\n",
              "0    0.0      5.0         3.0   \n",
              "1    1.0      5.0         2.0   \n",
              "2    2.0      4.0         3.0   \n",
              "3    3.0      5.0         3.0   \n",
              "4    4.0      5.0         1.0   \n",
              "\n",
              "                                            comments  \n",
              "0  This class is hard, but its a two-in-one gen-e...  \n",
              "1  Definitely going to choose Prof. Looney\\'s cla...  \n",
              "2  I overall enjoyed this class because the assig...  \n",
              "3  Yes, it\\'s possible to get an A but you\\'ll de...  \n",
              "4  Professor Looney has great knowledge in Astron...  "
            ],
            "text/html": [
              "\n",
              "  <div id=\"df-2d8a37e0-4bc1-469e-b6b3-2a771a822c99\">\n",
              "    <div class=\"colab-df-container\">\n",
              "      <div>\n",
              "<style scoped>\n",
              "    .dataframe tbody tr th:only-of-type {\n",
              "        vertical-align: middle;\n",
              "    }\n",
              "\n",
              "    .dataframe tbody tr th {\n",
              "        vertical-align: top;\n",
              "    }\n",
              "\n",
              "    .dataframe thead th {\n",
              "        text-align: right;\n",
              "    }\n",
              "</style>\n",
              "<table border=\"1\" class=\"dataframe\">\n",
              "  <thead>\n",
              "    <tr style=\"text-align: right;\">\n",
              "      <th></th>\n",
              "      <th>index</th>\n",
              "      <th>quality</th>\n",
              "      <th>difficulty</th>\n",
              "      <th>comments</th>\n",
              "    </tr>\n",
              "  </thead>\n",
              "  <tbody>\n",
              "    <tr>\n",
              "      <th>0</th>\n",
              "      <td>0.0</td>\n",
              "      <td>5.0</td>\n",
              "      <td>3.0</td>\n",
              "      <td>This class is hard, but its a two-in-one gen-e...</td>\n",
              "    </tr>\n",
              "    <tr>\n",
              "      <th>1</th>\n",
              "      <td>1.0</td>\n",
              "      <td>5.0</td>\n",
              "      <td>2.0</td>\n",
              "      <td>Definitely going to choose Prof. Looney\\'s cla...</td>\n",
              "    </tr>\n",
              "    <tr>\n",
              "      <th>2</th>\n",
              "      <td>2.0</td>\n",
              "      <td>4.0</td>\n",
              "      <td>3.0</td>\n",
              "      <td>I overall enjoyed this class because the assig...</td>\n",
              "    </tr>\n",
              "    <tr>\n",
              "      <th>3</th>\n",
              "      <td>3.0</td>\n",
              "      <td>5.0</td>\n",
              "      <td>3.0</td>\n",
              "      <td>Yes, it\\'s possible to get an A but you\\'ll de...</td>\n",
              "    </tr>\n",
              "    <tr>\n",
              "      <th>4</th>\n",
              "      <td>4.0</td>\n",
              "      <td>5.0</td>\n",
              "      <td>1.0</td>\n",
              "      <td>Professor Looney has great knowledge in Astron...</td>\n",
              "    </tr>\n",
              "  </tbody>\n",
              "</table>\n",
              "</div>\n",
              "      <button class=\"colab-df-convert\" onclick=\"convertToInteractive('df-2d8a37e0-4bc1-469e-b6b3-2a771a822c99')\"\n",
              "              title=\"Convert this dataframe to an interactive table.\"\n",
              "              style=\"display:none;\">\n",
              "        \n",
              "  <svg xmlns=\"http://www.w3.org/2000/svg\" height=\"24px\"viewBox=\"0 0 24 24\"\n",
              "       width=\"24px\">\n",
              "    <path d=\"M0 0h24v24H0V0z\" fill=\"none\"/>\n",
              "    <path d=\"M18.56 5.44l.94 2.06.94-2.06 2.06-.94-2.06-.94-.94-2.06-.94 2.06-2.06.94zm-11 1L8.5 8.5l.94-2.06 2.06-.94-2.06-.94L8.5 2.5l-.94 2.06-2.06.94zm10 10l.94 2.06.94-2.06 2.06-.94-2.06-.94-.94-2.06-.94 2.06-2.06.94z\"/><path d=\"M17.41 7.96l-1.37-1.37c-.4-.4-.92-.59-1.43-.59-.52 0-1.04.2-1.43.59L10.3 9.45l-7.72 7.72c-.78.78-.78 2.05 0 2.83L4 21.41c.39.39.9.59 1.41.59.51 0 1.02-.2 1.41-.59l7.78-7.78 2.81-2.81c.8-.78.8-2.07 0-2.86zM5.41 20L4 18.59l7.72-7.72 1.47 1.35L5.41 20z\"/>\n",
              "  </svg>\n",
              "      </button>\n",
              "      \n",
              "  <style>\n",
              "    .colab-df-container {\n",
              "      display:flex;\n",
              "      flex-wrap:wrap;\n",
              "      gap: 12px;\n",
              "    }\n",
              "\n",
              "    .colab-df-convert {\n",
              "      background-color: #E8F0FE;\n",
              "      border: none;\n",
              "      border-radius: 50%;\n",
              "      cursor: pointer;\n",
              "      display: none;\n",
              "      fill: #1967D2;\n",
              "      height: 32px;\n",
              "      padding: 0 0 0 0;\n",
              "      width: 32px;\n",
              "    }\n",
              "\n",
              "    .colab-df-convert:hover {\n",
              "      background-color: #E2EBFA;\n",
              "      box-shadow: 0px 1px 2px rgba(60, 64, 67, 0.3), 0px 1px 3px 1px rgba(60, 64, 67, 0.15);\n",
              "      fill: #174EA6;\n",
              "    }\n",
              "\n",
              "    [theme=dark] .colab-df-convert {\n",
              "      background-color: #3B4455;\n",
              "      fill: #D2E3FC;\n",
              "    }\n",
              "\n",
              "    [theme=dark] .colab-df-convert:hover {\n",
              "      background-color: #434B5C;\n",
              "      box-shadow: 0px 1px 3px 1px rgba(0, 0, 0, 0.15);\n",
              "      filter: drop-shadow(0px 1px 2px rgba(0, 0, 0, 0.3));\n",
              "      fill: #FFFFFF;\n",
              "    }\n",
              "  </style>\n",
              "\n",
              "      <script>\n",
              "        const buttonEl =\n",
              "          document.querySelector('#df-2d8a37e0-4bc1-469e-b6b3-2a771a822c99 button.colab-df-convert');\n",
              "        buttonEl.style.display =\n",
              "          google.colab.kernel.accessAllowed ? 'block' : 'none';\n",
              "\n",
              "        async function convertToInteractive(key) {\n",
              "          const element = document.querySelector('#df-2d8a37e0-4bc1-469e-b6b3-2a771a822c99');\n",
              "          const dataTable =\n",
              "            await google.colab.kernel.invokeFunction('convertToInteractive',\n",
              "                                                     [key], {});\n",
              "          if (!dataTable) return;\n",
              "\n",
              "          const docLinkHtml = 'Like what you see? Visit the ' +\n",
              "            '<a target=\"_blank\" href=https://colab.research.google.com/notebooks/data_table.ipynb>data table notebook</a>'\n",
              "            + ' to learn more about interactive tables.';\n",
              "          element.innerHTML = '';\n",
              "          dataTable['output_type'] = 'display_data';\n",
              "          await google.colab.output.renderOutput(dataTable, element);\n",
              "          const docLink = document.createElement('div');\n",
              "          docLink.innerHTML = docLinkHtml;\n",
              "          element.appendChild(docLink);\n",
              "        }\n",
              "      </script>\n",
              "    </div>\n",
              "  </div>\n",
              "  "
            ]
          },
          "metadata": {},
          "execution_count": 247
        }
      ]
    },
    {
      "cell_type": "code",
      "source": [
        "df.head()"
      ],
      "metadata": {
        "id": "nDZ_UJoYuiOz",
        "colab": {
          "base_uri": "https://localhost:8080/",
          "height": 206
        },
        "outputId": "4f1a74aa-95e7-4a07-ccea-2b432c0a3290"
      },
      "execution_count": null,
      "outputs": [
        {
          "output_type": "execute_result",
          "data": {
            "text/plain": [
              "   index  quality  difficulty  \\\n",
              "0    0.0      5.0         3.0   \n",
              "1    1.0      5.0         2.0   \n",
              "2    2.0      4.0         3.0   \n",
              "3    3.0      5.0         3.0   \n",
              "4    4.0      5.0         1.0   \n",
              "\n",
              "                                            comments  \n",
              "0  This class is hard, but its a two-in-one gen-e...  \n",
              "1  Definitely going to choose Prof. Looney\\'s cla...  \n",
              "2  I overall enjoyed this class because the assig...  \n",
              "3  Yes, it\\'s possible to get an A but you\\'ll de...  \n",
              "4  Professor Looney has great knowledge in Astron...  "
            ],
            "text/html": [
              "\n",
              "  <div id=\"df-007bbab6-def2-40e7-85f5-4a9248878a44\">\n",
              "    <div class=\"colab-df-container\">\n",
              "      <div>\n",
              "<style scoped>\n",
              "    .dataframe tbody tr th:only-of-type {\n",
              "        vertical-align: middle;\n",
              "    }\n",
              "\n",
              "    .dataframe tbody tr th {\n",
              "        vertical-align: top;\n",
              "    }\n",
              "\n",
              "    .dataframe thead th {\n",
              "        text-align: right;\n",
              "    }\n",
              "</style>\n",
              "<table border=\"1\" class=\"dataframe\">\n",
              "  <thead>\n",
              "    <tr style=\"text-align: right;\">\n",
              "      <th></th>\n",
              "      <th>index</th>\n",
              "      <th>quality</th>\n",
              "      <th>difficulty</th>\n",
              "      <th>comments</th>\n",
              "    </tr>\n",
              "  </thead>\n",
              "  <tbody>\n",
              "    <tr>\n",
              "      <th>0</th>\n",
              "      <td>0.0</td>\n",
              "      <td>5.0</td>\n",
              "      <td>3.0</td>\n",
              "      <td>This class is hard, but its a two-in-one gen-e...</td>\n",
              "    </tr>\n",
              "    <tr>\n",
              "      <th>1</th>\n",
              "      <td>1.0</td>\n",
              "      <td>5.0</td>\n",
              "      <td>2.0</td>\n",
              "      <td>Definitely going to choose Prof. Looney\\'s cla...</td>\n",
              "    </tr>\n",
              "    <tr>\n",
              "      <th>2</th>\n",
              "      <td>2.0</td>\n",
              "      <td>4.0</td>\n",
              "      <td>3.0</td>\n",
              "      <td>I overall enjoyed this class because the assig...</td>\n",
              "    </tr>\n",
              "    <tr>\n",
              "      <th>3</th>\n",
              "      <td>3.0</td>\n",
              "      <td>5.0</td>\n",
              "      <td>3.0</td>\n",
              "      <td>Yes, it\\'s possible to get an A but you\\'ll de...</td>\n",
              "    </tr>\n",
              "    <tr>\n",
              "      <th>4</th>\n",
              "      <td>4.0</td>\n",
              "      <td>5.0</td>\n",
              "      <td>1.0</td>\n",
              "      <td>Professor Looney has great knowledge in Astron...</td>\n",
              "    </tr>\n",
              "  </tbody>\n",
              "</table>\n",
              "</div>\n",
              "      <button class=\"colab-df-convert\" onclick=\"convertToInteractive('df-007bbab6-def2-40e7-85f5-4a9248878a44')\"\n",
              "              title=\"Convert this dataframe to an interactive table.\"\n",
              "              style=\"display:none;\">\n",
              "        \n",
              "  <svg xmlns=\"http://www.w3.org/2000/svg\" height=\"24px\"viewBox=\"0 0 24 24\"\n",
              "       width=\"24px\">\n",
              "    <path d=\"M0 0h24v24H0V0z\" fill=\"none\"/>\n",
              "    <path d=\"M18.56 5.44l.94 2.06.94-2.06 2.06-.94-2.06-.94-.94-2.06-.94 2.06-2.06.94zm-11 1L8.5 8.5l.94-2.06 2.06-.94-2.06-.94L8.5 2.5l-.94 2.06-2.06.94zm10 10l.94 2.06.94-2.06 2.06-.94-2.06-.94-.94-2.06-.94 2.06-2.06.94z\"/><path d=\"M17.41 7.96l-1.37-1.37c-.4-.4-.92-.59-1.43-.59-.52 0-1.04.2-1.43.59L10.3 9.45l-7.72 7.72c-.78.78-.78 2.05 0 2.83L4 21.41c.39.39.9.59 1.41.59.51 0 1.02-.2 1.41-.59l7.78-7.78 2.81-2.81c.8-.78.8-2.07 0-2.86zM5.41 20L4 18.59l7.72-7.72 1.47 1.35L5.41 20z\"/>\n",
              "  </svg>\n",
              "      </button>\n",
              "      \n",
              "  <style>\n",
              "    .colab-df-container {\n",
              "      display:flex;\n",
              "      flex-wrap:wrap;\n",
              "      gap: 12px;\n",
              "    }\n",
              "\n",
              "    .colab-df-convert {\n",
              "      background-color: #E8F0FE;\n",
              "      border: none;\n",
              "      border-radius: 50%;\n",
              "      cursor: pointer;\n",
              "      display: none;\n",
              "      fill: #1967D2;\n",
              "      height: 32px;\n",
              "      padding: 0 0 0 0;\n",
              "      width: 32px;\n",
              "    }\n",
              "\n",
              "    .colab-df-convert:hover {\n",
              "      background-color: #E2EBFA;\n",
              "      box-shadow: 0px 1px 2px rgba(60, 64, 67, 0.3), 0px 1px 3px 1px rgba(60, 64, 67, 0.15);\n",
              "      fill: #174EA6;\n",
              "    }\n",
              "\n",
              "    [theme=dark] .colab-df-convert {\n",
              "      background-color: #3B4455;\n",
              "      fill: #D2E3FC;\n",
              "    }\n",
              "\n",
              "    [theme=dark] .colab-df-convert:hover {\n",
              "      background-color: #434B5C;\n",
              "      box-shadow: 0px 1px 3px 1px rgba(0, 0, 0, 0.15);\n",
              "      filter: drop-shadow(0px 1px 2px rgba(0, 0, 0, 0.3));\n",
              "      fill: #FFFFFF;\n",
              "    }\n",
              "  </style>\n",
              "\n",
              "      <script>\n",
              "        const buttonEl =\n",
              "          document.querySelector('#df-007bbab6-def2-40e7-85f5-4a9248878a44 button.colab-df-convert');\n",
              "        buttonEl.style.display =\n",
              "          google.colab.kernel.accessAllowed ? 'block' : 'none';\n",
              "\n",
              "        async function convertToInteractive(key) {\n",
              "          const element = document.querySelector('#df-007bbab6-def2-40e7-85f5-4a9248878a44');\n",
              "          const dataTable =\n",
              "            await google.colab.kernel.invokeFunction('convertToInteractive',\n",
              "                                                     [key], {});\n",
              "          if (!dataTable) return;\n",
              "\n",
              "          const docLinkHtml = 'Like what you see? Visit the ' +\n",
              "            '<a target=\"_blank\" href=https://colab.research.google.com/notebooks/data_table.ipynb>data table notebook</a>'\n",
              "            + ' to learn more about interactive tables.';\n",
              "          element.innerHTML = '';\n",
              "          dataTable['output_type'] = 'display_data';\n",
              "          await google.colab.output.renderOutput(dataTable, element);\n",
              "          const docLink = document.createElement('div');\n",
              "          docLink.innerHTML = docLinkHtml;\n",
              "          element.appendChild(docLink);\n",
              "        }\n",
              "      </script>\n",
              "    </div>\n",
              "  </div>\n",
              "  "
            ]
          },
          "metadata": {},
          "execution_count": 248
        }
      ]
    },
    {
      "cell_type": "code",
      "source": [
        "df.isnull().sum()"
      ],
      "metadata": {
        "id": "bhxIXL4Nui0A",
        "colab": {
          "base_uri": "https://localhost:8080/"
        },
        "outputId": "e2cbc493-fd5a-42a9-ca9e-5de89287ac37"
      },
      "execution_count": null,
      "outputs": [
        {
          "output_type": "execute_result",
          "data": {
            "text/plain": [
              "index         40662\n",
              "quality           0\n",
              "difficulty        0\n",
              "comments          0\n",
              "dtype: int64"
            ]
          },
          "metadata": {},
          "execution_count": 249
        }
      ]
    },
    {
      "cell_type": "code",
      "source": [
        "#performed data preprocessing\n",
        "corpus=[]\n",
        "for i in range(len(df)):\n",
        "  text = remove_links(str(df['comments'][i]))\n",
        "  text = remove_email(text)\n",
        "  text = remove_extra_spaces(text)\n",
        "  text = remove_extra_line(text)\n",
        "  text = expand_contractions(text)\n",
        "  text = remove_digits(text)\n",
        "  text = convert_lower(text)\n",
        "  text = tokenize(text)\n",
        "  text = [lm.lemmatize(word) for word in text if word not in stopwords.words('english')]\n",
        "  text = \" \".join(text)\n",
        "  corpus.append(text)\n",
        "corpus[:5]"
      ],
      "metadata": {
        "id": "H6d0JKIoumbM",
        "colab": {
          "base_uri": "https://localhost:8080/"
        },
        "outputId": "c2be4aef-4c1a-4691-9588-39bc994d0793"
      },
      "execution_count": null,
      "outputs": [
        {
          "output_type": "execute_result",
          "data": {
            "text/plain": [
              "['class hard two one gen ed knockout content stimulating unlike class actually participate pas section easy offer extra credit every week funny dude much say',\n",
              " 'definitely going choose prof looney class interesting class easy bring note exam need remember lot lot bonus point available observatory session awesome',\n",
              " 'overall enjoyed class assignment straightforward interesting enjoy video project felt like one group cared enough help',\n",
              " 'yes possible get definitely work content pretty interesting tog get super organized class multiple thing due every week ton lecture go possible would avoid class week course definitely always somethingto class',\n",
              " 'professor looney great knowledge astronomy explain super easy way elementary class taught class great passion great illustration class definitely fun take interested knowledge class cover hesitate ask great teacher']"
            ]
          },
          "metadata": {},
          "execution_count": 250
        }
      ]
    },
    {
      "cell_type": "code",
      "source": [
        "#Performed one hot encoding\n",
        "voc_size = len(set(corpus))\n",
        "one_hot_repr = [one_hot(words,voc_size) for words in corpus]\n",
        "one_hot_repr[:5]"
      ],
      "metadata": {
        "id": "OX_avfxbumgg",
        "colab": {
          "base_uri": "https://localhost:8080/"
        },
        "outputId": "0e806526-9e31-4f6d-98bb-d9d0a85ca5bb"
      },
      "execution_count": null,
      "outputs": [
        {
          "output_type": "execute_result",
          "data": {
            "text/plain": [
              "[[29452,\n",
              "  12689,\n",
              "  3570,\n",
              "  37948,\n",
              "  46982,\n",
              "  27976,\n",
              "  6037,\n",
              "  3566,\n",
              "  21567,\n",
              "  10695,\n",
              "  29452,\n",
              "  39105,\n",
              "  31282,\n",
              "  20722,\n",
              "  15501,\n",
              "  25448,\n",
              "  12639,\n",
              "  8530,\n",
              "  43198,\n",
              "  11750,\n",
              "  8495,\n",
              "  30389,\n",
              "  35672,\n",
              "  12741,\n",
              "  31820],\n",
              " [26577,\n",
              "  48050,\n",
              "  23621,\n",
              "  16592,\n",
              "  8134,\n",
              "  29452,\n",
              "  33814,\n",
              "  29452,\n",
              "  25448,\n",
              "  21189,\n",
              "  1652,\n",
              "  8657,\n",
              "  47960,\n",
              "  34816,\n",
              "  19184,\n",
              "  19184,\n",
              "  23306,\n",
              "  46611,\n",
              "  19347,\n",
              "  29018,\n",
              "  27079,\n",
              "  8195],\n",
              " [45421,\n",
              "  31188,\n",
              "  29452,\n",
              "  6253,\n",
              "  33932,\n",
              "  33814,\n",
              "  558,\n",
              "  46467,\n",
              "  32222,\n",
              "  31486,\n",
              "  16440,\n",
              "  37948,\n",
              "  37800,\n",
              "  42745,\n",
              "  33872,\n",
              "  10540],\n",
              " [44970,\n",
              "  26924,\n",
              "  40447,\n",
              "  26577,\n",
              "  27173,\n",
              "  3566,\n",
              "  39648,\n",
              "  33814,\n",
              "  660,\n",
              "  40447,\n",
              "  12752,\n",
              "  26736,\n",
              "  29452,\n",
              "  10141,\n",
              "  40551,\n",
              "  48946,\n",
              "  11750,\n",
              "  8495,\n",
              "  39455,\n",
              "  33204,\n",
              "  45008,\n",
              "  26924,\n",
              "  49826,\n",
              "  9834,\n",
              "  29452,\n",
              "  8495,\n",
              "  10027,\n",
              "  26577,\n",
              "  833,\n",
              "  11902,\n",
              "  29452],\n",
              " [3228,\n",
              "  8134,\n",
              "  46155,\n",
              "  9284,\n",
              "  4105,\n",
              "  29458,\n",
              "  12752,\n",
              "  25448,\n",
              "  48232,\n",
              "  25252,\n",
              "  29452,\n",
              "  37853,\n",
              "  29452,\n",
              "  46155,\n",
              "  49995,\n",
              "  46155,\n",
              "  15220,\n",
              "  29452,\n",
              "  26577,\n",
              "  39942,\n",
              "  8576,\n",
              "  3114,\n",
              "  9284,\n",
              "  29452,\n",
              "  25011,\n",
              "  21950,\n",
              "  40058,\n",
              "  46155,\n",
              "  18268]]"
            ]
          },
          "metadata": {},
          "execution_count": 251
        }
      ]
    },
    {
      "cell_type": "code",
      "source": [
        "#Performed Padding\n",
        "sent_len = max([len(sent) for sent in corpus])\n",
        "embedded_docs = pad_sequences(one_hot_repr,padding=\"post\",maxlen=sent_len)\n",
        "embedded_docs[0]"
      ],
      "metadata": {
        "id": "mcWB3Gp7uxQt",
        "colab": {
          "base_uri": "https://localhost:8080/"
        },
        "outputId": "5d0599c1-b539-47ca-ca7e-45d3fd8073ca"
      },
      "execution_count": null,
      "outputs": [
        {
          "output_type": "execute_result",
          "data": {
            "text/plain": [
              "array([29452, 12689,  3570, 37948, 46982, 27976,  6037,  3566, 21567,\n",
              "       10695, 29452, 39105, 31282, 20722, 15501, 25448, 12639,  8530,\n",
              "       43198, 11750,  8495, 30389, 35672, 12741, 31820,     0,     0,\n",
              "           0,     0,     0,     0,     0,     0,     0,     0,     0,\n",
              "           0,     0,     0,     0,     0,     0,     0,     0,     0,\n",
              "           0,     0,     0,     0,     0,     0,     0,     0,     0,\n",
              "           0,     0,     0,     0,     0,     0,     0,     0,     0,\n",
              "           0,     0,     0,     0,     0,     0,     0,     0,     0,\n",
              "           0,     0,     0,     0,     0,     0,     0,     0,     0,\n",
              "           0,     0,     0,     0,     0,     0,     0,     0,     0,\n",
              "           0,     0,     0,     0,     0,     0,     0,     0,     0,\n",
              "           0,     0,     0,     0,     0,     0,     0,     0,     0,\n",
              "           0,     0,     0,     0,     0,     0,     0,     0,     0,\n",
              "           0,     0,     0,     0,     0,     0,     0,     0,     0,\n",
              "           0,     0,     0,     0,     0,     0,     0,     0,     0,\n",
              "           0,     0,     0,     0,     0,     0,     0,     0,     0,\n",
              "           0,     0,     0,     0,     0,     0,     0,     0,     0,\n",
              "           0,     0,     0,     0,     0,     0,     0,     0,     0,\n",
              "           0,     0,     0,     0,     0,     0,     0,     0,     0,\n",
              "           0,     0,     0,     0,     0,     0,     0,     0,     0,\n",
              "           0,     0,     0,     0,     0,     0,     0,     0,     0,\n",
              "           0,     0,     0,     0,     0,     0,     0,     0,     0,\n",
              "           0,     0,     0,     0,     0,     0,     0,     0,     0,\n",
              "           0,     0,     0,     0,     0,     0,     0,     0,     0,\n",
              "           0,     0,     0,     0,     0,     0,     0,     0,     0,\n",
              "           0,     0,     0,     0,     0,     0,     0,     0,     0,\n",
              "           0,     0,     0,     0,     0,     0,     0,     0,     0,\n",
              "           0,     0,     0,     0,     0,     0,     0,     0,     0,\n",
              "           0,     0,     0,     0,     0,     0,     0,     0,     0,\n",
              "           0,     0,     0,     0,     0,     0,     0,     0,     0,\n",
              "           0,     0,     0,     0,     0,     0,     0,     0,     0,\n",
              "           0,     0,     0,     0,     0,     0,     0,     0,     0,\n",
              "           0,     0,     0,     0,     0,     0,     0,     0,     0,\n",
              "           0,     0,     0,     0,     0,     0,     0,     0,     0,\n",
              "           0,     0,     0,     0,     0,     0,     0,     0,     0,\n",
              "           0,     0,     0,     0,     0,     0,     0,     0,     0,\n",
              "           0,     0,     0,     0,     0,     0,     0,     0,     0,\n",
              "           0,     0,     0,     0,     0,     0,     0,     0,     0,\n",
              "           0,     0,     0,     0,     0,     0,     0,     0,     0,\n",
              "           0,     0,     0,     0,     0,     0,     0,     0,     0,\n",
              "           0,     0,     0,     0,     0,     0,     0,     0,     0,\n",
              "           0,     0,     0,     0,     0,     0,     0,     0,     0,\n",
              "           0,     0,     0,     0,     0,     0,     0,     0,     0,\n",
              "           0,     0,     0,     0,     0,     0,     0,     0,     0,\n",
              "           0,     0,     0,     0,     0,     0,     0,     0,     0,\n",
              "           0,     0,     0,     0,     0,     0], dtype=int32)"
            ]
          },
          "metadata": {},
          "execution_count": 252
        }
      ]
    },
    {
      "cell_type": "code",
      "source": [
        "#store the quality and difficulty in lists\n",
        "rating = []\n",
        "difficulty = []\n",
        "for index,row in df.iterrows():\n",
        "    #if type(row[\"comments\"]) == str:\n",
        "    rating.append(row[\"quality\"])\n",
        "    difficulty.append(row[\"difficulty\"])\n",
        "\n",
        "print(len(rating))\n",
        "print(len(difficulty))"
      ],
      "metadata": {
        "id": "SAXFCjpTu1Xn",
        "colab": {
          "base_uri": "https://localhost:8080/"
        },
        "outputId": "f6de8295-e02b-4b35-df2f-5ca6a6a4ea74"
      },
      "execution_count": null,
      "outputs": [
        {
          "output_type": "stream",
          "name": "stdout",
          "text": [
            "60993\n",
            "60993\n"
          ]
        }
      ]
    },
    {
      "cell_type": "code",
      "source": [
        "#Prepare the X and Y\n",
        "X = np.array(embedded_docs)\n",
        "Y = np.stack((rating,difficulty),axis=1)"
      ],
      "metadata": {
        "id": "QPIFOvjHu49D"
      },
      "execution_count": null,
      "outputs": []
    },
    {
      "cell_type": "code",
      "source": [
        "#Y=np.array(Y,dtype='float32')"
      ],
      "metadata": {
        "id": "VeqdvPkWgLcG"
      },
      "execution_count": null,
      "outputs": []
    },
    {
      "cell_type": "code",
      "source": [
        "#Spliting the data with split ratio of 75-25%\n",
        "from sklearn.model_selection import train_test_split\n",
        "x_train,x_test,y_train,y_test= train_test_split(X,Y,test_size=0.25,random_state=42)\n"
      ],
      "metadata": {
        "id": "b9Ja6LCYu7Sq"
      },
      "execution_count": null,
      "outputs": []
    },
    {
      "cell_type": "code",
      "source": [
        "#build the model\n",
        "from tensorflow.keras.models import Sequential\n",
        "from tensorflow.keras.layers import Activation, Dropout, Dense, Flatten, GlobalMaxPooling1D, Embedding, Conv1D, LSTM, GRU, Bidirectional\n",
        "model = Sequential([\n",
        "    Embedding(voc_size,100,input_length=sent_len),\n",
        "    Bidirectional(GRU(64,return_sequences=True)),\n",
        "    Bidirectional(GRU(32)),\n",
        "    Dropout(0.5),\n",
        "    Dense(64,activation=\"relu\"),\n",
        "    Dense(32,activation=\"relu\"),\n",
        "    Dense(2,activation=\"linear\")\n",
        "])\n",
        "model.summary()"
      ],
      "metadata": {
        "id": "OgxyOHBqu9g5",
        "colab": {
          "base_uri": "https://localhost:8080/"
        },
        "outputId": "933ee255-cbcb-44ae-d590-ff948a1d74a3"
      },
      "execution_count": null,
      "outputs": [
        {
          "output_type": "stream",
          "name": "stdout",
          "text": [
            "Model: \"sequential_12\"\n",
            "_________________________________________________________________\n",
            " Layer (type)                Output Shape              Param #   \n",
            "=================================================================\n",
            " embedding_12 (Embedding)    (None, 411, 100)          5012200   \n",
            "                                                                 \n",
            " bidirectional_16 (Bidirecti  (None, 411, 128)         63744     \n",
            " onal)                                                           \n",
            "                                                                 \n",
            " bidirectional_17 (Bidirecti  (None, 64)               31104     \n",
            " onal)                                                           \n",
            "                                                                 \n",
            " dropout_36 (Dropout)        (None, 64)                0         \n",
            "                                                                 \n",
            " dense_38 (Dense)            (None, 64)                4160      \n",
            "                                                                 \n",
            " dense_39 (Dense)            (None, 32)                2080      \n",
            "                                                                 \n",
            " dense_40 (Dense)            (None, 2)                 66        \n",
            "                                                                 \n",
            "=================================================================\n",
            "Total params: 5,113,354\n",
            "Trainable params: 5,113,354\n",
            "Non-trainable params: 0\n",
            "_________________________________________________________________\n"
          ]
        }
      ]
    },
    {
      "cell_type": "code",
      "source": [
        "#compile the model\n",
        "model.compile(optimizer=\"Adam\",loss=\"mse\",metrics=['mae'])"
      ],
      "metadata": {
        "id": "DH3Rlbp0vAJg"
      },
      "execution_count": null,
      "outputs": []
    },
    {
      "cell_type": "code",
      "source": [
        "pip install --upgrade tensorflow\n"
      ],
      "metadata": {
        "colab": {
          "base_uri": "https://localhost:8080/"
        },
        "id": "jeg_l8eJL6zO",
        "outputId": "5b8df1d3-1dc4-4ae1-cf42-7d8a67b17d03"
      },
      "execution_count": null,
      "outputs": [
        {
          "output_type": "stream",
          "name": "stdout",
          "text": [
            "Looking in indexes: https://pypi.org/simple, https://us-python.pkg.dev/colab-wheels/public/simple/\n",
            "Requirement already satisfied: tensorflow in /usr/local/lib/python3.10/dist-packages (2.12.0)\n",
            "Requirement already satisfied: packaging in /usr/local/lib/python3.10/dist-packages (from tensorflow) (23.1)\n",
            "Requirement already satisfied: tensorflow-io-gcs-filesystem>=0.23.1 in /usr/local/lib/python3.10/dist-packages (from tensorflow) (0.32.0)\n",
            "Requirement already satisfied: wrapt<1.15,>=1.11.0 in /usr/local/lib/python3.10/dist-packages (from tensorflow) (1.14.1)\n",
            "Requirement already satisfied: termcolor>=1.1.0 in /usr/local/lib/python3.10/dist-packages (from tensorflow) (2.3.0)\n",
            "Requirement already satisfied: six>=1.12.0 in /usr/local/lib/python3.10/dist-packages (from tensorflow) (1.16.0)\n",
            "Requirement already satisfied: google-pasta>=0.1.1 in /usr/local/lib/python3.10/dist-packages (from tensorflow) (0.2.0)\n",
            "Requirement already satisfied: protobuf!=4.21.0,!=4.21.1,!=4.21.2,!=4.21.3,!=4.21.4,!=4.21.5,<5.0.0dev,>=3.20.3 in /usr/local/lib/python3.10/dist-packages (from tensorflow) (3.20.3)\n",
            "Requirement already satisfied: tensorflow-estimator<2.13,>=2.12.0 in /usr/local/lib/python3.10/dist-packages (from tensorflow) (2.12.0)\n",
            "Requirement already satisfied: flatbuffers>=2.0 in /usr/local/lib/python3.10/dist-packages (from tensorflow) (23.3.3)\n",
            "Requirement already satisfied: astunparse>=1.6.0 in /usr/local/lib/python3.10/dist-packages (from tensorflow) (1.6.3)\n",
            "Requirement already satisfied: h5py>=2.9.0 in /usr/local/lib/python3.10/dist-packages (from tensorflow) (3.8.0)\n",
            "Requirement already satisfied: jax>=0.3.15 in /usr/local/lib/python3.10/dist-packages (from tensorflow) (0.4.8)\n",
            "Requirement already satisfied: gast<=0.4.0,>=0.2.1 in /usr/local/lib/python3.10/dist-packages (from tensorflow) (0.4.0)\n",
            "Requirement already satisfied: keras<2.13,>=2.12.0 in /usr/local/lib/python3.10/dist-packages (from tensorflow) (2.12.0)\n",
            "Requirement already satisfied: setuptools in /usr/local/lib/python3.10/dist-packages (from tensorflow) (67.7.2)\n",
            "Requirement already satisfied: opt-einsum>=2.3.2 in /usr/local/lib/python3.10/dist-packages (from tensorflow) (3.3.0)\n",
            "Requirement already satisfied: absl-py>=1.0.0 in /usr/local/lib/python3.10/dist-packages (from tensorflow) (1.4.0)\n",
            "Requirement already satisfied: typing-extensions>=3.6.6 in /usr/local/lib/python3.10/dist-packages (from tensorflow) (4.5.0)\n",
            "Requirement already satisfied: tensorboard<2.13,>=2.12 in /usr/local/lib/python3.10/dist-packages (from tensorflow) (2.12.2)\n",
            "Requirement already satisfied: libclang>=13.0.0 in /usr/local/lib/python3.10/dist-packages (from tensorflow) (16.0.0)\n",
            "Requirement already satisfied: numpy<1.24,>=1.22 in /usr/local/lib/python3.10/dist-packages (from tensorflow) (1.22.4)\n",
            "Requirement already satisfied: grpcio<2.0,>=1.24.3 in /usr/local/lib/python3.10/dist-packages (from tensorflow) (1.54.0)\n",
            "Requirement already satisfied: wheel<1.0,>=0.23.0 in /usr/local/lib/python3.10/dist-packages (from astunparse>=1.6.0->tensorflow) (0.40.0)\n",
            "Requirement already satisfied: ml-dtypes>=0.0.3 in /usr/local/lib/python3.10/dist-packages (from jax>=0.3.15->tensorflow) (0.1.0)\n",
            "Requirement already satisfied: scipy>=1.7 in /usr/local/lib/python3.10/dist-packages (from jax>=0.3.15->tensorflow) (1.10.1)\n",
            "Requirement already satisfied: requests<3,>=2.21.0 in /usr/local/lib/python3.10/dist-packages (from tensorboard<2.13,>=2.12->tensorflow) (2.27.1)\n",
            "Requirement already satisfied: tensorboard-plugin-wit>=1.6.0 in /usr/local/lib/python3.10/dist-packages (from tensorboard<2.13,>=2.12->tensorflow) (1.8.1)\n",
            "Requirement already satisfied: google-auth-oauthlib<1.1,>=0.5 in /usr/local/lib/python3.10/dist-packages (from tensorboard<2.13,>=2.12->tensorflow) (1.0.0)\n",
            "Requirement already satisfied: google-auth<3,>=1.6.3 in /usr/local/lib/python3.10/dist-packages (from tensorboard<2.13,>=2.12->tensorflow) (2.17.3)\n",
            "Requirement already satisfied: markdown>=2.6.8 in /usr/local/lib/python3.10/dist-packages (from tensorboard<2.13,>=2.12->tensorflow) (3.4.3)\n",
            "Requirement already satisfied: tensorboard-data-server<0.8.0,>=0.7.0 in /usr/local/lib/python3.10/dist-packages (from tensorboard<2.13,>=2.12->tensorflow) (0.7.0)\n",
            "Requirement already satisfied: werkzeug>=1.0.1 in /usr/local/lib/python3.10/dist-packages (from tensorboard<2.13,>=2.12->tensorflow) (2.3.0)\n",
            "Requirement already satisfied: cachetools<6.0,>=2.0.0 in /usr/local/lib/python3.10/dist-packages (from google-auth<3,>=1.6.3->tensorboard<2.13,>=2.12->tensorflow) (5.3.0)\n",
            "Requirement already satisfied: rsa<5,>=3.1.4 in /usr/local/lib/python3.10/dist-packages (from google-auth<3,>=1.6.3->tensorboard<2.13,>=2.12->tensorflow) (4.9)\n",
            "Requirement already satisfied: pyasn1-modules>=0.2.1 in /usr/local/lib/python3.10/dist-packages (from google-auth<3,>=1.6.3->tensorboard<2.13,>=2.12->tensorflow) (0.3.0)\n",
            "Requirement already satisfied: requests-oauthlib>=0.7.0 in /usr/local/lib/python3.10/dist-packages (from google-auth-oauthlib<1.1,>=0.5->tensorboard<2.13,>=2.12->tensorflow) (1.3.1)\n",
            "Requirement already satisfied: idna<4,>=2.5 in /usr/local/lib/python3.10/dist-packages (from requests<3,>=2.21.0->tensorboard<2.13,>=2.12->tensorflow) (3.4)\n",
            "Requirement already satisfied: charset-normalizer~=2.0.0 in /usr/local/lib/python3.10/dist-packages (from requests<3,>=2.21.0->tensorboard<2.13,>=2.12->tensorflow) (2.0.12)\n",
            "Requirement already satisfied: urllib3<1.27,>=1.21.1 in /usr/local/lib/python3.10/dist-packages (from requests<3,>=2.21.0->tensorboard<2.13,>=2.12->tensorflow) (1.26.15)\n",
            "Requirement already satisfied: certifi>=2017.4.17 in /usr/local/lib/python3.10/dist-packages (from requests<3,>=2.21.0->tensorboard<2.13,>=2.12->tensorflow) (2022.12.7)\n",
            "Requirement already satisfied: MarkupSafe>=2.1.1 in /usr/local/lib/python3.10/dist-packages (from werkzeug>=1.0.1->tensorboard<2.13,>=2.12->tensorflow) (2.1.2)\n",
            "Requirement already satisfied: pyasn1<0.6.0,>=0.4.6 in /usr/local/lib/python3.10/dist-packages (from pyasn1-modules>=0.2.1->google-auth<3,>=1.6.3->tensorboard<2.13,>=2.12->tensorflow) (0.5.0)\n",
            "Requirement already satisfied: oauthlib>=3.0.0 in /usr/local/lib/python3.10/dist-packages (from requests-oauthlib>=0.7.0->google-auth-oauthlib<1.1,>=0.5->tensorboard<2.13,>=2.12->tensorflow) (3.2.2)\n"
          ]
        }
      ]
    },
    {
      "cell_type": "code",
      "source": [
        "#fit the model on training data\n",
        "history = model.fit(x_train,y_train,validation_split=0.2,epochs=10,batch_size=128,verbose=1,shuffle=True)"
      ],
      "metadata": {
        "id": "G4ByjjvPvCp4",
        "colab": {
          "base_uri": "https://localhost:8080/"
        },
        "outputId": "36700c9f-a91f-49f6-a605-0e0dd9e230ff"
      },
      "execution_count": null,
      "outputs": [
        {
          "output_type": "stream",
          "name": "stdout",
          "text": [
            "Epoch 1/10\n",
            "286/286 [==============================] - 77s 211ms/step - loss: 2.2472 - mae: 1.2060 - val_loss: 1.2104 - val_mae: 0.8944\n",
            "Epoch 2/10\n",
            "286/286 [==============================] - 29s 100ms/step - loss: 1.1031 - mae: 0.8378 - val_loss: 1.6533 - val_mae: 1.0806\n",
            "Epoch 3/10\n",
            "286/286 [==============================] - 24s 84ms/step - loss: 0.8593 - mae: 0.7258 - val_loss: 1.5856 - val_mae: 1.0624\n",
            "Epoch 4/10\n",
            "286/286 [==============================] - 21s 74ms/step - loss: 0.7095 - mae: 0.6480 - val_loss: 1.3974 - val_mae: 0.9837\n",
            "Epoch 5/10\n",
            "286/286 [==============================] - 24s 83ms/step - loss: 0.6113 - mae: 0.5911 - val_loss: 1.2892 - val_mae: 0.9419\n",
            "Epoch 6/10\n",
            "286/286 [==============================] - 25s 89ms/step - loss: 0.5415 - mae: 0.5492 - val_loss: 0.9434 - val_mae: 0.7716\n",
            "Epoch 7/10\n",
            "286/286 [==============================] - 21s 75ms/step - loss: 0.4923 - mae: 0.5181 - val_loss: 0.7917 - val_mae: 0.6801\n",
            "Epoch 8/10\n",
            "286/286 [==============================] - 21s 75ms/step - loss: 0.4568 - mae: 0.4935 - val_loss: 0.7345 - val_mae: 0.6461\n",
            "Epoch 9/10\n",
            "286/286 [==============================] - 20s 71ms/step - loss: 0.4237 - mae: 0.4708 - val_loss: 0.7148 - val_mae: 0.6213\n",
            "Epoch 10/10\n",
            "286/286 [==============================] - 21s 72ms/step - loss: 0.4001 - mae: 0.4530 - val_loss: 0.6895 - val_mae: 0.5989\n"
          ]
        }
      ]
    },
    {
      "cell_type": "code",
      "source": [
        "# Plot the training and validation loss over each epoch\n",
        "plt.plot(history.history['loss'])\n",
        "plt.plot(history.history['val_loss'])\n",
        "plt.title('Model loss')\n",
        "plt.ylabel('Loss')\n",
        "plt.xlabel('Epoch')\n",
        "plt.legend(['Train', 'Validation'], loc='upper left')\n",
        "plt.show()"
      ],
      "metadata": {
        "id": "c0bN8_rvvFgZ",
        "colab": {
          "base_uri": "https://localhost:8080/",
          "height": 472
        },
        "outputId": "fb37e142-56eb-47db-a8d5-e1a8325960ba"
      },
      "execution_count": null,
      "outputs": [
        {
          "output_type": "display_data",
          "data": {
            "text/plain": [
              "<Figure size 640x480 with 1 Axes>"
            ],
            "image/png": "[encoded data removed]"
          },
          "metadata": {}
        }
      ]
    },
    {
      "cell_type": "code",
      "source": [
        "#Predicted Labels\n",
        "pred = model.predict(x_test)\n",
        "pred[:5]"
      ],
      "metadata": {
        "id": "lzPahQUKvIOm",
        "colab": {
          "base_uri": "https://localhost:8080/"
        },
        "outputId": "d5aa721a-1825-4a13-dde1-a0fdae736ad5"
      },
      "execution_count": null,
      "outputs": [
        {
          "output_type": "stream",
          "name": "stdout",
          "text": [
            "477/477 [==============================] - 12s 22ms/step\n"
          ]
        },
        {
          "output_type": "execute_result",
          "data": {
            "text/plain": [
              "array([[1.1535242, 4.4296894],\n",
              "       [4.6140027, 3.5580285],\n",
              "       [2.9596906, 3.2839403],\n",
              "       [4.6258373, 1.1433547],\n",
              "       [3.9599059, 4.493196 ]], dtype=float32)"
            ]
          },
          "metadata": {},
          "execution_count": 261
        }
      ]
    },
    {
      "cell_type": "code",
      "source": [
        "#Actual Labels and Predicted Labels comparison\n",
        "print(\"Actual labels=\")\n",
        "print(y_test[:5])\n",
        "\n",
        "print(\"Predicted labels=\")\n",
        "print(pred[:5])"
      ],
      "metadata": {
        "colab": {
          "base_uri": "https://localhost:8080/"
        },
        "id": "igwaoK1SQWrt",
        "outputId": "f368bccd-7229-44b5-b141-78a753e56b54"
      },
      "execution_count": null,
      "outputs": [
        {
          "output_type": "stream",
          "name": "stdout",
          "text": [
            "Actual labels=\n",
            "[[1. 5.]\n",
            " [5. 3.]\n",
            " [1. 5.]\n",
            " [2. 3.]\n",
            " [5. 5.]]\n",
            "Predicted labels=\n",
            "[[1.1535242 4.4296894]\n",
            " [4.6140027 3.5580285]\n",
            " [2.9596906 3.2839403]\n",
            " [4.6258373 1.1433547]\n",
            " [3.9599059 4.493196 ]]\n"
          ]
        }
      ]
    },
    {
      "cell_type": "code",
      "source": [
        "#defined clear text function for inputs\n",
        "def clear_text(s):\n",
        "  text = remove_links(s)\n",
        "  text = remove_email(text)\n",
        "  text = remove_extra_spaces(text)\n",
        "  text = remove_extra_line(text)\n",
        "  text = expand_contractions(text)\n",
        "  text = remove_digits(text)\n",
        "  text = convert_lower(text)\n",
        "  text = tokenize(text)\n",
        "  text = [lm.lemmatize(word) for word in text if word not in stopwords.words('english')]\n",
        "  text = \" \".join(text)\n",
        "  return text"
      ],
      "metadata": {
        "id": "Gi04Ogs_wSzP"
      },
      "execution_count": null,
      "outputs": []
    },
    {
      "cell_type": "code",
      "source": [
        "#test case 1\n",
        "s = input(\"Enter a comment = \")\n",
        "s = clear_text(s)\n",
        "one_hot_repr = [one_hot(s,voc_size)]\n",
        "embedded_docs = pad_sequences(one_hot_repr,padding=\"post\",maxlen=sent_len)\n",
        "len(embedded_docs)"
      ],
      "metadata": {
        "id": "C7f18KxJwV_S",
        "colab": {
          "base_uri": "https://localhost:8080/"
        },
        "outputId": "3677ffb9-9056-403d-9f03-d31197cd32bb"
      },
      "execution_count": null,
      "outputs": [
        {
          "name": "stdout",
          "output_type": "stream",
          "text": [
            "Enter a comment = Professor is really intelligent and best at his teaching and he teaches subject by making them easy\n"
          ]
        },
        {
          "output_type": "execute_result",
          "data": {
            "text/plain": [
              "1"
            ]
          },
          "metadata": {},
          "execution_count": 272
        }
      ]
    },
    {
      "cell_type": "code",
      "source": [
        "#result 1\n",
        "rate,diff = model.predict(embedded_docs).flatten()\n",
        "print(\"Quality = {}\".format(round(rate)))\n",
        "print(\"Difficulty = {}\".format(round(diff)))"
      ],
      "metadata": {
        "id": "Ev-LhFMDwbWl",
        "colab": {
          "base_uri": "https://localhost:8080/"
        },
        "outputId": "bc0138f9-250e-4e43-f58d-14c400cfcb7b"
      },
      "execution_count": null,
      "outputs": [
        {
          "output_type": "stream",
          "name": "stdout",
          "text": [
            "1/1 [==============================] - 0s 42ms/step\n",
            "Quality = 5\n",
            "Difficulty = 1\n"
          ]
        }
      ]
    },
    {
      "cell_type": "code",
      "source": [
        "#test case 2\n",
        "s = input(\"Enter a comment = \")\n",
        "s = clear_text(s)\n",
        "one_hot_repr = [one_hot(s,voc_size)]\n",
        "embedded_docs = pad_sequences(one_hot_repr,padding=\"post\",maxlen=sent_len)\n",
        "len(embedded_docs)"
      ],
      "metadata": {
        "colab": {
          "base_uri": "https://localhost:8080/"
        },
        "id": "WLAO-BUa2Zag",
        "outputId": "cbaa2579-a28e-4200-f894-1b315461d185"
      },
      "execution_count": null,
      "outputs": [
        {
          "name": "stdout",
          "output_type": "stream",
          "text": [
            "Enter a comment =  professor's teaching is bad and unclear and his teaching is hard\n"
          ]
        },
        {
          "output_type": "execute_result",
          "data": {
            "text/plain": [
              "1"
            ]
          },
          "metadata": {},
          "execution_count": 274
        }
      ]
    },
    {
      "cell_type": "code",
      "source": [
        "#result 2\n",
        "rate,diff = model.predict(embedded_docs).flatten()\n",
        "print(\"Quality = {}\".format(round(rate)))\n",
        "print(\"Difficulty = {}\".format(round(diff)))"
      ],
      "metadata": {
        "colab": {
          "base_uri": "https://localhost:8080/"
        },
        "id": "7YgauSWp2b6J",
        "outputId": "e8ab7ce6-d7dd-4103-d3e6-9574979cd372"
      },
      "execution_count": null,
      "outputs": [
        {
          "output_type": "stream",
          "name": "stdout",
          "text": [
            "1/1 [==============================] - 0s 57ms/step\n",
            "Quality = 1\n",
            "Difficulty = 5\n"
          ]
        }
      ]
    },
    {
      "cell_type": "code",
      "source": [
        "#test case 3\n",
        "s = input(\"Enter a comment = \")\n",
        "s = clear_text(s)\n",
        "one_hot_repr = [one_hot(s,voc_size)]\n",
        "embedded_docs = pad_sequences(one_hot_repr,padding=\"post\",maxlen=sent_len)\n",
        "len(embedded_docs)"
      ],
      "metadata": {
        "colab": {
          "base_uri": "https://localhost:8080/"
        },
        "id": "z4kIVD64RlTt",
        "outputId": "1e3c8f93-6a8a-4676-99e0-e06b623383ee"
      },
      "execution_count": null,
      "outputs": [
        {
          "name": "stdout",
          "output_type": "stream",
          "text": [
            "Enter a comment = He explains everything clearly.So subject seems to be okay.\n"
          ]
        },
        {
          "output_type": "execute_result",
          "data": {
            "text/plain": [
              "1"
            ]
          },
          "metadata": {},
          "execution_count": 280
        }
      ]
    },
    {
      "cell_type": "code",
      "source": [
        "#result 3\n",
        "rate,diff = model.predict(embedded_docs).flatten()\n",
        "print(\"Quality = {}\".format(round(rate)))\n",
        "print(\"Difficulty = {}\".format(round(diff)))"
      ],
      "metadata": {
        "colab": {
          "base_uri": "https://localhost:8080/"
        },
        "id": "eql1NibrRnKR",
        "outputId": "eb5556d3-a863-47d0-c8bc-da921f02db83"
      },
      "execution_count": null,
      "outputs": [
        {
          "output_type": "stream",
          "name": "stdout",
          "text": [
            "1/1 [==============================] - 0s 35ms/step\n",
            "Quality = 3\n",
            "Difficulty = 3\n"
          ]
        }
      ]
    }
  ],
  "metadata": {
    "colab": {
      "provenance": [],
      "gpuType": "T4"
    },
    "kernelspec": {
      "display_name": "Python 3",
      "name": "python3"
    },
    "language_info": {
      "name": "python"
    },
    "accelerator": "GPU",
    "gpuClass": "standard"
  },
  "nbformat": 4,
  "nbformat_minor": 0
}